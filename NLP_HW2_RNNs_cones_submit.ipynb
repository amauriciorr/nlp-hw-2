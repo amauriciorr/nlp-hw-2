{
 "cells": [
  {
   "cell_type": "markdown",
   "metadata": {
    "colab_type": "text",
    "id": "970AS3pGerFA"
   },
   "source": [
    "# DS-GA 1011 Homework 2\n",
    "## N-Gram and Neural Language Modeling"
   ]
  },
  {
   "cell_type": "code",
   "execution_count": 1,
   "metadata": {
    "colab": {
     "base_uri": "https://localhost:8080/",
     "height": 54
    },
    "colab_type": "code",
    "id": "jDFAcX6MerFB",
    "outputId": "e3408ecc-e255-43b9-80dd-cc8faa32fc8b"
   },
   "outputs": [],
   "source": [
    "import torch\n",
    "import torch.nn as nn\n",
    "import pandas as pd\n",
    "import numpy as np\n",
    "from tqdm import tqdm\n",
    "import spacy\n",
    "import string\n",
    "from collections import Counter\n",
    "import datetime as dt\n",
    "import pickle as pkl\n",
    "import os\n",
    "import json\n",
    "import matplotlib.pyplot as plt\n",
    "import re\n",
    "#import jsonlines\n",
    "import numpy as np\n",
    "from collections import defaultdict\n",
    "num_gpus = torch.cuda.device_count()\n",
    "if num_gpus > 0:\n",
    "    current_device = 'cuda'\n",
    "    from google.colab import drive\n",
    "    drive.mount('/content/gdrive')\n",
    "    path = 'gdrive/My Drive/'\n",
    "else:\n",
    "    current_device = 'cpu'\n",
    "    path = './'\n"
   ]
  },
  {
   "cell_type": "markdown",
   "metadata": {
    "colab_type": "text",
    "id": "BpLkEDTmerFE"
   },
   "source": [
    "## I. N-Gram Language Modeling"
   ]
  },
  {
   "cell_type": "markdown",
   "metadata": {
    "colab_type": "text",
    "id": "6UYZDUMjerFF"
   },
   "source": [
    "#### Utilities"
   ]
  },
  {
   "cell_type": "code",
   "execution_count": 2,
   "metadata": {
    "colab": {},
    "colab_type": "code",
    "id": "Mx4F7xByerFF"
   },
   "outputs": [],
   "source": [
    "def load_wikitext(filename='wikitext2-sentencized.json'):\n",
    "    if not os.path.exists(filename):\n",
    "        !wget \"https://nyu.box.com/shared/static/9kb7l7ci30hb6uahhbssjlq0kctr5ii4.json\" -O $filename\n",
    "    \n",
    "    datasets = json.load(open(filename, 'r'))\n",
    "    for name in datasets:\n",
    "        datasets[name] = [x.split() for x in datasets[name]]\n",
    "    vocab = list(set([t for ts in datasets['train'] for t in ts]))      \n",
    "    print(\"Vocab size: %d\" % (len(vocab)))\n",
    "    return datasets, vocab\n",
    "\n",
    "def perplexity(model, sequences):\n",
    "    n_total = 0\n",
    "    logp_total = 0\n",
    "    for sequence in sequences:\n",
    "        logp_total += model.sequence_logp(sequence)\n",
    "        n_total += len(sequence) + 1  \n",
    "    ppl = 2 ** (- (1.0 / n_total) * logp_total)  \n",
    "    return ppl"
   ]
  },
  {
   "cell_type": "markdown",
   "metadata": {
    "colab_type": "text",
    "id": "EVfI-rjyerFH"
   },
   "source": [
    "### Additive Smoothing"
   ]
  },
  {
   "cell_type": "code",
   "execution_count": 3,
   "metadata": {
    "colab": {},
    "colab_type": "code",
    "id": "eHRoN6lMerFI"
   },
   "outputs": [],
   "source": [
    "class NGramAdditive(object):\n",
    "    def __init__(self, n, delta, vsize):\n",
    "        self.n = n\n",
    "        self.delta = delta\n",
    "        self.count = defaultdict(lambda: defaultdict(float))\n",
    "        self.total = defaultdict(float)\n",
    "        self.vsize = vsize\n",
    "    \n",
    "    def estimate(self, sequences):\n",
    "        for sequence in sequences:\n",
    "            padded_sequence = ['<bos>']*(self.n-1) + sequence + ['<eos>']\n",
    "            for i in range(len(padded_sequence) - self.n+1):\n",
    "                ngram = tuple(padded_sequence[i:i+self.n])\n",
    "                prefix, word = ngram[:-1], ngram[-1]\n",
    "                self.count[prefix][word] += 1\n",
    "                self.total[prefix] += 1\n",
    "                \n",
    "    def sequence_logp(self, sequence):\n",
    "        padded_sequence = ['<bos>']*(self.n-1) + sequence + ['<eos>']\n",
    "        total_logp = 0\n",
    "        for i in range(len(padded_sequence) - self.n+1):\n",
    "            ngram = tuple(padded_sequence[i:i+self.n])\n",
    "            total_logp += np.log2(self.ngram_prob(ngram))\n",
    "        return total_logp\n",
    "\n",
    "    def ngram_prob(self, ngram):\n",
    "        prefix = ngram[:-1]\n",
    "        word = ngram[-1]\n",
    "        prob = ((self.delta + self.count[prefix][word]) / \n",
    "                (self.total[prefix] + self.delta*self.vsize))\n",
    "        return prob"
   ]
  },
  {
   "cell_type": "code",
   "execution_count": 0,
   "metadata": {
    "colab": {},
    "colab_type": "code",
    "id": "GlKfaPdBerFK",
    "outputId": "247f5bc5-825c-4728-9c86-28612b231c46"
   },
   "outputs": [
    {
     "name": "stdout",
     "output_type": "stream",
     "text": [
      "Vocab size: 33175\n",
      "Baseline (Additive smoothing, n=2, delta=0.0005)) Train Perplexity: 90.228\n",
      "Baseline (Additive smoothing, n=2, delta=0.0005)) Valid Perplexity: 525.825\n",
      "Baseline (Additive smoothing, n=3, delta=0.0005)) Train Perplexity: 26.768\n",
      "Baseline (Additive smoothing, n=3, delta=0.0005)) Valid Perplexity: 2577.128\n",
      "Baseline (Additive smoothing, n=4, delta=0.0005)) Train Perplexity: 19.947\n",
      "Baseline (Additive smoothing, n=4, delta=0.0005)) Valid Perplexity: 9570.901\n"
     ]
    }
   ],
   "source": [
    "wiki_datasets, vocab = load_wikitext()\n",
    "\n",
    "delta = 0.0005\n",
    "for n in [2, 3, 4]:\n",
    "    lm = NGramAdditive(n=n, delta=delta, vsize=len(vocab)+1)  # +1 is for <eos>\n",
    "    lm.estimate(wiki_datasets['train'])\n",
    "\n",
    "    print(\"Baseline (Additive smoothing, n=%d, delta=%.4f)) Train Perplexity: %.3f\" % (n, delta, perplexity(lm, wiki_datasets['train'])))\n",
    "    print(\"Baseline (Additive smoothing, n=%d, delta=%.4f)) Valid Perplexity: %.3f\" % (n, delta, perplexity(lm, wiki_datasets['valid'])))"
   ]
  },
  {
   "cell_type": "markdown",
   "metadata": {
    "colab_type": "text",
    "id": "T50510neerFN"
   },
   "source": [
    "### I.1 Interpolation"
   ]
  },
  {
   "cell_type": "code",
   "execution_count": 4,
   "metadata": {
    "colab": {},
    "colab_type": "code",
    "id": "UN9rc5BperFO"
   },
   "outputs": [],
   "source": [
    "class NGramInterpolation(object):\n",
    "    def __init__(self, n, lambdas, vsize, total_word_count):\n",
    "        self.n = n\n",
    "        self.lambdas = lambdas\n",
    "        self.count = defaultdict(lambda: defaultdict(float))\n",
    "        self.total = defaultdict(float)\n",
    "        self.vsize = vsize\n",
    "        self.total_word_count = total_word_count\n",
    "        \n",
    "    \n",
    "    def estimate(self, sequences):\n",
    "        for sequence in sequences:\n",
    "            padded_sequence = ['<bos>']*(self.n-1) + sequence + ['<eos>']\n",
    "            for i in range(self.n-1, len(padded_sequence)):\n",
    "                ngram = tuple(padded_sequence[i-self.n+1:i+1])\n",
    "                for j in range(1, self.n):\n",
    "                    prefix, word = ngram[:j], ngram[j]\n",
    "                    self.count[prefix][word] += 1\n",
    "                    self.total[prefix] += 1 \n",
    "                    self.total[word] += 1\n",
    "                    \n",
    "    def sequence_logp(self, sequence):\n",
    "        padded_sequence = ['<bos>']*(self.n-1) + sequence + ['<eos>']\n",
    "        total_logp = 0\n",
    "        for i in range(len(padded_sequence) - self.n+1):\n",
    "            ngram = tuple(padded_sequence[i:i+self.n])\n",
    "            total_logp += np.log2(self.ngram_prob(ngram))\n",
    "        return total_logp\n",
    "\n",
    "    def ngram_prob(self, ngram):\n",
    "        prob = self.lambdas[-1]/self.vsize\n",
    "        word = ngram[-1]\n",
    "        prob += (self.total[word] / self.total_word_count) * self.lambdas[-2]\n",
    "        for nk in range(len(ngram) - 1):\n",
    "            prefix = ngram[nk:-1]\n",
    "            if self.total[prefix] > 1e-9:\n",
    "                prob += ((self.count[prefix][word])/ (self.total[prefix])) * self.lambdas[nk]\n",
    "            \n",
    "        return prob"
   ]
  },
  {
   "cell_type": "code",
   "execution_count": 0,
   "metadata": {
    "colab": {},
    "colab_type": "code",
    "id": "or9C_sfGerFQ",
    "outputId": "6554e078-73ae-4a26-84d2-3abc03a80088"
   },
   "outputs": [
    {
     "name": "stdout",
     "output_type": "stream",
     "text": [
      "1924754\n"
     ]
    }
   ],
   "source": [
    "total_wc = len([t for ts in wiki_datasets['train'] for t in ts])\n",
    "print(total_wc)"
   ]
  },
  {
   "cell_type": "markdown",
   "metadata": {
    "colab_type": "text",
    "id": "Te3XJUyverFT"
   },
   "source": [
    "#### Results (showing $\\lambda_0,\\ldots,\\lambda_n$ values):"
   ]
  },
  {
   "cell_type": "code",
   "execution_count": 0,
   "metadata": {
    "colab": {},
    "colab_type": "code",
    "id": "rNaIztgJerFU",
    "outputId": "5e117ef4-b6d3-4311-cbc7-128a1d3a18d2"
   },
   "outputs": [
    {
     "name": "stdout",
     "output_type": "stream",
     "text": [
      "Lambdas add to: 1.0\n",
      "lambdas = [0.20953827 0.79046173]\n",
      "Interpolation, n=2 | Train Perplexity: 262.011\n",
      "Interpolation, n=2 | Valid Perplexity: 516.755\n",
      "Lambdas add to: 0.9999999999999999\n",
      "lambdas = [0.25564492 0.49439094 0.24996414]\n",
      "Interpolation, n=3 | Train Perplexity: 18.841\n",
      "Interpolation, n=3 | Valid Perplexity: 170.144\n",
      "Lambdas add to: 1.0\n",
      "lambdas = [0.13951532 0.01370735 0.57312293 0.27365439]\n",
      "Interpolation, n=4 | Train Perplexity: 10.124\n",
      "Interpolation, n=4 | Valid Perplexity: 158.523\n",
      "A good configuration has been found\n"
     ]
    }
   ],
   "source": [
    "found = False\n",
    "while not(found):\n",
    "    perplexs = []\n",
    "    for n in [2, 3, 4]:\n",
    "        #lambdas = [1/(n+1) for i in range(n+1)]\n",
    "\n",
    "        # Uncomment to input in the following format #.##,#.##,#.##(...)\n",
    "        # lam = input()\n",
    "        # lambdas = [float(i) for i in lam.split(\",\")]\n",
    "\n",
    "        # Random search using Dirichlet Distribution (Notice: lambdas add to 1)\n",
    "        lambdas = np.ravel(np.random.dirichlet(np.ones(n),size=1))\n",
    "        print('Lambdas add to:',sum(np.ravel(np.random.dirichlet(np.ones(n),size=1))))\n",
    "\n",
    "        lm = NGramInterpolation(n=n, lambdas=lambdas, vsize=len(vocab)+1, total_word_count = total_wc)  # +1 is for <eos>\n",
    "        lm.estimate(wiki_datasets['train'])\n",
    "\n",
    "        print(\"lambdas = \" + str(lambdas))\n",
    "        print(\"Interpolation, n=%d | Train Perplexity: %.3f\" % (n, perplexity(lm, wiki_datasets['train'])))\n",
    "        print(\"Interpolation, n=%d | Valid Perplexity: %.3f\" % (n, perplexity(lm, wiki_datasets['valid'])))\n",
    "        perplexs.append(perplexity(lm, wiki_datasets['valid']))\n",
    "        \n",
    "        # If initial perplexity is not better than Additive Smoothing\n",
    "        if (n == 2) and perplexs[n-2] > 525:\n",
    "            break\n",
    "        \n",
    "        # If the next n-gram is not better than last one found\n",
    "        if ( n > 2 ):\n",
    "            if (perplexs[n-2] < perplexs[n-3]):\n",
    "                if n == 4:\n",
    "                    found = True\n",
    "                    print(\"A good configuration has been found\")\n",
    "                continue\n",
    "            else:\n",
    "                break"
   ]
  },
  {
   "cell_type": "markdown",
   "metadata": {
    "colab_type": "text",
    "id": "dJSFMgxlerFl"
   },
   "source": [
    "## II. Neural Language Modeling with a Recurrent Neural Network"
   ]
  },
  {
   "cell_type": "markdown",
   "metadata": {
    "colab_type": "text",
    "id": "A8adLmVCerFl"
   },
   "source": [
    "## LSTM RNN Model "
   ]
  },
  {
   "cell_type": "code",
   "execution_count": 5,
   "metadata": {},
   "outputs": [
    {
     "name": "stdout",
     "output_type": "stream",
     "text": [
      "Current device: cpu\n",
      "Current path: ./\n"
     ]
    }
   ],
   "source": [
    "print('Current device: {}'.format(current_device))\n",
    "print('Current path: {}'.format(path))"
   ]
  },
  {
   "cell_type": "code",
   "execution_count": 6,
   "metadata": {
    "colab": {},
    "colab_type": "code",
    "id": "vl-TRA7CerFo"
   },
   "outputs": [],
   "source": [
    "tokenizer = spacy.load('en_core_web_sm')\n",
    "punctuations = string.punctuation\n",
    "\n",
    "def tokenize(document):\n",
    "    tokens = tokenizer(document)\n",
    "    tokens = [token.text.lower() for token in tokens if (token.text not in punctuations)]\n",
    "    return tokens"
   ]
  },
  {
   "cell_type": "code",
   "execution_count": 7,
   "metadata": {
    "colab": {},
    "colab_type": "code",
    "id": "mvQEdk2eerFq"
   },
   "outputs": [],
   "source": [
    "def load_wikitext(fname):\n",
    "    full_lines = []\n",
    "    datasets_text = {\n",
    "        'train': [],\n",
    "        'valid': [],\n",
    "        'test': [],\n",
    "    }\n",
    "    for jline in jsonlines.open(fname):\n",
    "        for split in datasets_text.keys():\n",
    "            for sentence in tqdm(jline[split]):\n",
    "                datasets_text[split].append(tokenize(sentence))\n",
    "        \n",
    "    return datasets_text"
   ]
  },
  {
   "cell_type": "code",
   "execution_count": 0,
   "metadata": {
    "colab": {},
    "colab_type": "code",
    "id": "VNFvKKjFerFs"
   },
   "outputs": [],
   "source": [
    "# wikitext = load_wikitext('/Users/Antonio/Downloads/wikitext2-sentencized.json')"
   ]
  },
  {
   "cell_type": "code",
   "execution_count": 0,
   "metadata": {
    "colab": {},
    "colab_type": "code",
    "id": "6T1E5F8serFu"
   },
   "outputs": [],
   "source": [
    "# pkl.dump(wikitext['train'], open('wiki_train_tokenized.p','wb'))\n",
    "# pkl.dump(wikitext['valid'], open('wiki_val_tokenized.p', 'wb'))\n",
    "# pkl.dump(wikitext['test'], open('wiki_test_tokenized.p','wb'))\n",
    "# pkl.dump(wikitext, open('wiki_all_tokenized.p','wb'))"
   ]
  },
  {
   "cell_type": "code",
   "execution_count": 8,
   "metadata": {
    "colab": {},
    "colab_type": "code",
    "id": "nAqLStSCerFz"
   },
   "outputs": [],
   "source": [
    "def load_wiki_data(path):\n",
    "    wiki_train = pkl.load(open(path+'wiki_train_tokenized.p','rb'))\n",
    "    wiki_val = pkl.load(open(path+'wiki_val_tokenized.p','rb'))\n",
    "    wiki_test = pkl.load(open(path+'wiki_test_tokenized.p','rb'))\n",
    "    wiki_all = pkl.load(open(path+'wiki_all_tokenized.p','rb'))\n",
    "    \n",
    "    return wiki_train, wiki_val, wiki_test, wiki_all"
   ]
  },
  {
   "cell_type": "code",
   "execution_count": 9,
   "metadata": {
    "colab": {},
    "colab_type": "code",
    "id": "8fPjtGRFerF2"
   },
   "outputs": [],
   "source": [
    "wiki_train, wiki_val, wiki_test, wiki_all = load_wiki_data(path)"
   ]
  },
  {
   "cell_type": "code",
   "execution_count": 10,
   "metadata": {
    "colab": {},
    "colab_type": "code",
    "id": "mkKdXYvserF4"
   },
   "outputs": [],
   "source": [
    "class Dictionary(object):\n",
    "    def __init__(self, datasets, include_valid=False):\n",
    "        self.tokens = []\n",
    "        self.ids = {}\n",
    "        self.counts = {}\n",
    "        \n",
    "        # add special tokens\n",
    "        self.add_token('<bos>')\n",
    "        self.add_token('<eos>')\n",
    "        self.add_token('<pad>')\n",
    "        self.add_token('<unk>')\n",
    "\n",
    "        for line in tqdm(datasets['train']):\n",
    "            for w in line:\n",
    "                self.add_token(w)\n",
    "                    \n",
    "        if include_valid is True:\n",
    "            for line in tqdm(datasets['valid']):\n",
    "                for w in line:\n",
    "                    self.add_token(w)\n",
    "                            \n",
    "    def add_token(self, w):\n",
    "        if w not in self.tokens:\n",
    "            self.tokens.append(w)\n",
    "            _w_id = len(self.tokens) - 1\n",
    "            self.ids[w] = _w_id\n",
    "            self.counts[w] = 1\n",
    "        else:\n",
    "            self.counts[w] += 1\n",
    "\n",
    "    def get_id(self, w):\n",
    "        return self.ids[w]\n",
    "    \n",
    "    def get_token(self, idx):\n",
    "        return self.tokens[idx]\n",
    "    \n",
    "    def decode_idx_seq(self, l):\n",
    "        return [self.tokens[i] for i in l]\n",
    "    \n",
    "    def encode_token_seq(self, l):\n",
    "        return [self.ids[i] if i in self.ids else self.ids['<unk>'] for i in l]\n",
    "    \n",
    "    def __len__(self):\n",
    "        return len(self.tokens)"
   ]
  },
  {
   "cell_type": "code",
   "execution_count": 0,
   "metadata": {
    "colab": {},
    "colab_type": "code",
    "id": "xXVFQ55perF6",
    "outputId": "da71d33a-0f83-41d9-a52a-3fa17c995f9a"
   },
   "outputs": [
    {
     "name": "stderr",
     "output_type": "stream",
     "text": [
      "100%|██████████| 78274/78274 [01:37<00:00, 800.05it/s] \n"
     ]
    }
   ],
   "source": [
    "# wiki_dict = Dictionary(wiki_all, include_valid = False)"
   ]
  },
  {
   "cell_type": "code",
   "execution_count": 0,
   "metadata": {
    "colab": {},
    "colab_type": "code",
    "id": "XeV4I8C6erF8"
   },
   "outputs": [],
   "source": [
    "# pkl.dump(wiki_dict, open('wiki_dictionary.p','wb'))"
   ]
  },
  {
   "cell_type": "markdown",
   "metadata": {
    "colab_type": "text",
    "id": "4rj2DtxWerF-"
   },
   "source": [
    "# Included pickled `wiki_dict` to avoid creating object\n",
    "takes around 1.5 mins to create.."
   ]
  },
  {
   "cell_type": "code",
   "execution_count": 11,
   "metadata": {
    "colab": {},
    "colab_type": "code",
    "id": "JKgrJeu0erF_"
   },
   "outputs": [],
   "source": [
    "wiki_dict = pkl.load(open(path+'wiki_dictionary.p','rb'))"
   ]
  },
  {
   "cell_type": "code",
   "execution_count": 12,
   "metadata": {
    "colab": {},
    "colab_type": "code",
    "id": "C1iKv5cIerGA"
   },
   "outputs": [],
   "source": [
    "def tokenize_dataset(datasets, dictionary, ngram_order=2):\n",
    "    tokenized_datasets = {}\n",
    "    for split, dataset in datasets.items():\n",
    "        _current_dictified = []\n",
    "        for l in tqdm(dataset):\n",
    "            l = ['<bos>']*(ngram_order-1) + l + ['<eos>']\n",
    "            encoded_l = dictionary.encode_token_seq(l)\n",
    "            _current_dictified.append(encoded_l)\n",
    "        tokenized_datasets[split] = _current_dictified\n",
    "        \n",
    "    return tokenized_datasets"
   ]
  },
  {
   "cell_type": "code",
   "execution_count": 13,
   "metadata": {
    "colab": {},
    "colab_type": "code",
    "id": "sN671kCherGC"
   },
   "outputs": [],
   "source": [
    "def pad_list_of_tensors(list_of_tensors, pad_token):\n",
    "    max_length = max([t.size(-1) for t in list_of_tensors])\n",
    "    padded_list = []\n",
    "    \n",
    "    for t in list_of_tensors:\n",
    "        padded_tensor = torch.cat([t, torch.tensor([[pad_token]*(max_length - t.size(-1))], dtype=torch.long)], dim = -1)\n",
    "        padded_list.append(padded_tensor)\n",
    "        \n",
    "    padded_tensor = torch.cat(padded_list, dim=0)\n",
    "    \n",
    "    return padded_tensor\n",
    "\n",
    "def pad_collate_fn(batch):\n",
    "    # batch is a list of sample tuples\n",
    "    input_list = [s[0] for s in batch]\n",
    "    target_list = [s[1] for s in batch]\n",
    "    \n",
    "    #pad_token = persona_dict.get_id('<pad>')\n",
    "    pad_token = 2\n",
    "    \n",
    "    input_tensor = pad_list_of_tensors(input_list, pad_token)\n",
    "    target_tensor = pad_list_of_tensors(target_list, pad_token)\n",
    "    \n",
    "    return input_tensor, target_tensor"
   ]
  },
  {
   "cell_type": "code",
   "execution_count": 14,
   "metadata": {
    "colab": {},
    "colab_type": "code",
    "id": "KiJAuRY5erGE"
   },
   "outputs": [],
   "source": [
    "from torch.utils.data import Dataset, RandomSampler, SequentialSampler, DataLoader\n",
    "\n",
    "class TensoredDataset(Dataset):\n",
    "    def __init__(self, list_of_lists_of_tokens):\n",
    "        self.input_tensors = []\n",
    "        self.target_tensors = []\n",
    "        \n",
    "        for sample in list_of_lists_of_tokens:\n",
    "            self.input_tensors.append(torch.tensor([sample[:-1]], dtype=torch.long))\n",
    "            self.target_tensors.append(torch.tensor([sample[1:]], dtype=torch.long))\n",
    "    \n",
    "    def __len__(self):\n",
    "        return len(self.input_tensors)\n",
    "    \n",
    "    def __getitem__(self, idx):\n",
    "        # return a (input, target) tuple\n",
    "        return (self.input_tensors[idx], self.target_tensors[idx])"
   ]
  },
  {
   "cell_type": "code",
   "execution_count": 15,
   "metadata": {
    "colab": {},
    "colab_type": "code",
    "id": "WeSHZLLperGF"
   },
   "outputs": [],
   "source": [
    "def build_ngram_loader(dataset, dataset_dict, ngram_order, batch_size=2048):\n",
    "    tokenized_ngram_dataset = tokenize_dataset(dataset, dataset_dict, ngram_order)\n",
    "    #sliced_ngram = slice_sequences_given_order(tokenized_ngram_dataset, ngram_order)\n",
    "\n",
    "    ngram_datasets = {}\n",
    "    ngram_loaders = {}\n",
    "    for split, tokenized_dataset in tokenized_ngram_dataset.items():\n",
    "        ngram_datasets[split] = TensoredDataset(tokenized_dataset)\n",
    "    \n",
    "    for split, tensored_dataset in ngram_datasets.items():\n",
    "        ngram_loaders[split] = DataLoader(tensored_dataset, batch_size=batch_size, shuffle=True,\\\n",
    "                                          collate_fn=pad_collate_fn)\n",
    "    return ngram_datasets, ngram_loaders"
   ]
  },
  {
   "cell_type": "code",
   "execution_count": 16,
   "metadata": {
    "colab": {
     "base_uri": "https://localhost:8080/",
     "height": 68
    },
    "colab_type": "code",
    "id": "8K92PtdzerGJ",
    "outputId": "0a9d84b9-f7ae-42b0-cd05-211b45c6b474"
   },
   "outputs": [
    {
     "name": "stderr",
     "output_type": "stream",
     "text": [
      "100%|██████████| 78274/78274 [00:00<00:00, 121113.56it/s]\n",
      "100%|██████████| 8464/8464 [00:00<00:00, 160866.17it/s]\n",
      "100%|██████████| 9708/9708 [00:00<00:00, 148654.69it/s]\n"
     ]
    }
   ],
   "source": [
    "wiki_datasets, wiki_loaders = build_ngram_loader(wiki_all, wiki_dict, 4, 128)"
   ]
  },
  {
   "cell_type": "markdown",
   "metadata": {
    "colab_type": "text",
    "id": "64Ui351c1-Fk"
   },
   "source": [
    "## LSTM"
   ]
  },
  {
   "cell_type": "code",
   "execution_count": 17,
   "metadata": {
    "colab": {},
    "colab_type": "code",
    "id": "wrIbhglGerGN"
   },
   "outputs": [],
   "source": [
    "import torch.nn as nn\n",
    "import torch.optim as optim\n",
    "\n",
    "class LSTMModel(nn.Module):\n",
    "    \"\"\"\n",
    "    This model combines embedding, rnn and projection layer into a single model\n",
    "    \"\"\"\n",
    "    def __init__(self, options):\n",
    "        super().__init__()\n",
    "        \n",
    "        # create each LM part here \n",
    "        self.lookup = nn.Embedding(num_embeddings=options['num_embeddings'], embedding_dim=options['embedding_dim'], padding_idx=options['padding_idx'])\n",
    "        self.lstm = nn.LSTM(options['input_size'], options['hidden_size'], options['num_layers'], dropout=options['rnn_dropout'], batch_first=True)\n",
    "        self.projection = nn.Linear(options['hidden_size'], options['num_embeddings'])\n",
    "        \n",
    "    def forward(self, encoded_input_sequence):\n",
    "        \"\"\"\n",
    "        Forward method process the input from token ids to logits\n",
    "        \"\"\"\n",
    "        embeddings = self.lookup(encoded_input_sequence)\n",
    "        lstm_outputs = self.lstm(embeddings)\n",
    "        logits = self.projection(lstm_outputs[0])\n",
    "        \n",
    "        return logits"
   ]
  },
  {
   "cell_type": "code",
   "execution_count": 0,
   "metadata": {
    "colab": {},
    "colab_type": "code",
    "id": "0UqGD7dwerGP"
   },
   "outputs": [],
   "source": [
    "# check out eventually; below values are from lab 4\n",
    "# embedding_size = 256\n",
    "# hidden_size = 512\n",
    "# num_layers = 3\n",
    "# rnn_dropout = 0.3"
   ]
  },
  {
   "cell_type": "code",
   "execution_count": 18,
   "metadata": {
    "colab": {},
    "colab_type": "code",
    "id": "010w_DpGerGS"
   },
   "outputs": [],
   "source": [
    "### values included here are BASELINE only\n",
    "hidden_size = 128\n",
    "embedding_size = 64\n",
    "rnn_dropout = 0.1\n",
    "num_layers = 2\n",
    "\n",
    "options = {\n",
    "        'num_embeddings': len(wiki_dict),\n",
    "        'embedding_dim': embedding_size,\n",
    "        'padding_idx': wiki_dict.get_id('<pad>'),\n",
    "        'input_size': embedding_size,\n",
    "        'hidden_size': hidden_size,\n",
    "        'num_layers': num_layers,\n",
    "        'rnn_dropout': rnn_dropout,\n",
    "    }"
   ]
  },
  {
   "cell_type": "code",
   "execution_count": 19,
   "metadata": {
    "colab": {},
    "colab_type": "code",
    "id": "m16OksoXerGU"
   },
   "outputs": [],
   "source": [
    "lstm_model = LSTMModel(options).to(current_device)"
   ]
  },
  {
   "cell_type": "code",
   "execution_count": 20,
   "metadata": {
    "colab": {},
    "colab_type": "code",
    "id": "FzItUEZBerGW"
   },
   "outputs": [],
   "source": [
    "learn_rate = 0.001\n",
    "lstm_criterion = nn.CrossEntropyLoss(ignore_index=wiki_dict.get_id('<pad>'))\n",
    "\n",
    "# lstm_model_parameters = [p for p in lstm_model.parameters() if p.requires_grad]\n",
    "lstm_optimizer = optim.Adam(lstm_model.parameters(), lr=learn_rate)"
   ]
  },
  {
   "cell_type": "code",
   "execution_count": 21,
   "metadata": {
    "colab": {},
    "colab_type": "code",
    "id": "rY-VVNITq47s"
   },
   "outputs": [],
   "source": [
    "def lstm_perplexity(ce_loss):\n",
    "  return (2**(ce_loss/np.log(2)))\n",
    "  "
   ]
  },
  {
   "cell_type": "code",
   "execution_count": 22,
   "metadata": {
    "colab": {},
    "colab_type": "code",
    "id": "lKpFmj3serGZ"
   },
   "outputs": [],
   "source": [
    "import datetime as dt\n",
    "def train_lstm(model, loaders_dict, criterion, optimizer, path_to_save = path+'baseline_lstm.pt'):\n",
    "    start_time = dt.datetime.now()\n",
    "    print('{} | Starting training'.format(start_time))\n",
    "    \n",
    "    \n",
    "    plot_cache = []\n",
    "    best_perplexity = float('Inf')\n",
    "    \n",
    "    for epoch_number in range(10):\n",
    "        print('{} | Epoch {}'.format(dt.datetime.now(), epoch_number+1))\n",
    "        \n",
    "        avg_loss = -1.0\n",
    "        model.train()\n",
    "        train_log_cache = []\n",
    "        \n",
    "            #for i, (inp, target) in enumerate(persona_ngram_loaders['train']):\n",
    "        for i, (inp, target) in enumerate(loaders_dict['train']):\n",
    "            \n",
    "            optimizer.zero_grad()\n",
    "            inp = inp.to(current_device)\n",
    "            target = target.to(current_device)\n",
    "            logits = model(inp)\n",
    "\n",
    "            loss = criterion(logits.view(-1, logits.size(-1)), target.view(-1))\n",
    "\n",
    "            loss.backward()\n",
    "            optimizer.step()\n",
    "\n",
    "            train_log_cache.append(loss.item())  \n",
    "        \n",
    "            if i % 100 == 0: \n",
    "              print('{} | Number steps {}'.format(dt.datetime.now(), i))\n",
    "                \n",
    "        avg_loss = sum(train_log_cache)/len(train_log_cache)\n",
    "        print('{} | Epoch {} avg train loss = {:.{prec}f}'.format(dt.datetime.now(), epoch_number+1, avg_loss, prec=4))\n",
    "     \n",
    "        train_log_cache = []\n",
    "      \n",
    "        #do valid\n",
    "        valid_losses = []\n",
    "        model.eval()\n",
    "        with torch.no_grad():\n",
    "            for i, (inp, target) in enumerate(loaders_dict['valid']):\n",
    "\n",
    "                inp = inp.to(current_device)\n",
    "                target = target.to(current_device)\n",
    "                logits = model(inp)\n",
    "                loss = criterion(logits.view(-1, logits.size(-1)), target.view(-1))\n",
    "                valid_losses.append(loss.item())\n",
    "            avg_val_loss = sum(valid_losses) / len(valid_losses)\n",
    "            print('Epoch {} validation loss = {:.{prec}f}'.format(epoch_number+1, avg_val_loss, prec=4))\n",
    "\n",
    "            plot_cache.append((avg_loss, avg_val_loss))\n",
    "            val_ppl = lstm_perplexity(avg_val_loss)\n",
    "            print('Epoch {}, perplexity achieved {}'.format(epoch_number+1, val_ppl))\n",
    "            if val_ppl < best_perplexity:\n",
    "              torch.save(model.state_dict(), path_to_save)\n",
    "              best_perplexity = val_ppl\n",
    "    print('{} | Finished training in {}'.format(dt.datetime.now(), dt.datetime.now() - start_time))\n",
    "          \n",
    "    return plot_cache"
   ]
  },
  {
   "cell_type": "code",
   "execution_count": 0,
   "metadata": {
    "colab": {},
    "colab_type": "code",
    "id": "bhmLiUZ9erGb"
   },
   "outputs": [],
   "source": [
    "lstm_losses = train_lstm(lstm_model, wiki_loaders, lstm_criterion, lstm_optimizer)\n"
   ]
  },
  {
   "cell_type": "code",
   "execution_count": 0,
   "metadata": {
    "colab": {
     "base_uri": "https://localhost:8080/",
     "height": 187
    },
    "colab_type": "code",
    "id": "2jahfn5y79Fy",
    "outputId": "5bde4ff3-28ad-4ec1-9d20-90619bbc1396"
   },
   "outputs": [
    {
     "name": "stdout",
     "output_type": "stream",
     "text": [
      "Epoch 1, perplexity 485.74431725177425 \n",
      "Epoch 2, perplexity 340.5988893900643 \n",
      "Epoch 3, perplexity 282.0407894433271 \n",
      "Epoch 4, perplexity 248.94715152003695 \n",
      "Epoch 5, perplexity 227.81834640900593 \n",
      "Epoch 6, perplexity 211.63231959516264 \n",
      "Epoch 7, perplexity 202.8889041485416 \n",
      "Epoch 8, perplexity 195.41396969511615 \n",
      "Epoch 9, perplexity 189.1255822014498 \n",
      "Epoch 10, perplexity 185.00784711463538 \n"
     ]
    }
   ],
   "source": [
    "for i, j in enumerate(lstm_losses):\n",
    "    print('Epoch {}, perplexity {} '.format(i+1,lstm_perplexity(j[1])))"
   ]
  },
  {
   "cell_type": "code",
   "execution_count": 0,
   "metadata": {
    "colab": {},
    "colab_type": "code",
    "id": "ErCKgfq39ZVA"
   },
   "outputs": [],
   "source": [
    "pkl.dump(lstm_losses, open('baseline_lstm_losses.p','wb'))"
   ]
  },
  {
   "cell_type": "markdown",
   "metadata": {
    "colab_type": "text",
    "id": "3QyimPD-17HP"
   },
   "source": [
    "## RNN"
   ]
  },
  {
   "cell_type": "code",
   "execution_count": 23,
   "metadata": {
    "colab": {},
    "colab_type": "code",
    "id": "0Mp-ARgg15ZN"
   },
   "outputs": [],
   "source": [
    "import torch.nn as nn\n",
    "import torch.optim as optim\n",
    "\n",
    "class RNNModel(nn.Module):\n",
    "    \"\"\"\n",
    "    This model combines embedding, rnn and projection layer into a single model\n",
    "    \"\"\"\n",
    "    def __init__(self, options):\n",
    "        super().__init__()\n",
    "        \n",
    "        # create each LM part here \n",
    "        self.lookup = nn.Embedding(num_embeddings=options['num_embeddings'], embedding_dim=options['embedding_dim'], padding_idx=options['padding_idx'])\n",
    "        self.rnn = nn.RNN(options['input_size'], options['hidden_size'], options['num_layers'], dropout=options['rnn_dropout'], batch_first=True)\n",
    "        self.projection = nn.Linear(options['hidden_size'], options['num_embeddings'])\n",
    "        \n",
    "    def forward(self, encoded_input_sequence):\n",
    "        \"\"\"\n",
    "        Forward method process the input from token ids to logits\n",
    "        \"\"\"\n",
    "        embeddings = self.lookup(encoded_input_sequence)\n",
    "        rnn_outputs = self.rnn(embeddings)\n",
    "        logits = self.projection(rnn_outputs[0])\n",
    "        \n",
    "        return logits"
   ]
  },
  {
   "cell_type": "code",
   "execution_count": 24,
   "metadata": {
    "colab": {},
    "colab_type": "code",
    "id": "vnrqhjEu7OCn"
   },
   "outputs": [],
   "source": [
    "num_gpus = torch.cuda.device_count()\n",
    "if num_gpus > 0:\n",
    "    current_device = 'cuda'\n",
    "    path = 'gdrive/My Drive/'\n",
    "else:\n",
    "    current_device = 'cpu'\n",
    "    path = './'\n",
    "\n",
    "rnn_model = RNNModel(options).to(current_device)"
   ]
  },
  {
   "cell_type": "code",
   "execution_count": 25,
   "metadata": {
    "colab": {},
    "colab_type": "code",
    "id": "w6IDaJ6O157U"
   },
   "outputs": [],
   "source": [
    "learn_rate = 0.001\n",
    "rnn_criterion = nn.CrossEntropyLoss(ignore_index=wiki_dict.get_id('<pad>'))\n",
    "\n",
    "# lstm_model_parameters = [p for p in lstm_model.parameters() if p.requires_grad]\n",
    "rnn_optimizer = optim.Adam(rnn_model.parameters(), lr=learn_rate)"
   ]
  },
  {
   "cell_type": "code",
   "execution_count": 26,
   "metadata": {
    "colab": {},
    "colab_type": "code",
    "id": "PdSFddoQ2OWh"
   },
   "outputs": [],
   "source": [
    "import datetime as dt\n",
    "def train_rnn(model, loaders_dict, criterion, optimizer, path_to_save = path+'baseline_rnn.pt'):\n",
    "    start_time = dt.datetime.now()\n",
    "    print('{} | Starting training'.format(start_time))\n",
    "    \n",
    "    \n",
    "    plot_cache = []\n",
    "    best_perplexity = float('Inf')\n",
    "    \n",
    "    for epoch_number in range(10):\n",
    "        print('{} | Epoch {}'.format(dt.datetime.now(), epoch_number+1))\n",
    "        \n",
    "        avg_loss = -1.0\n",
    "        model.train()\n",
    "        train_log_cache = []\n",
    "        \n",
    "            #for i, (inp, target) in enumerate(persona_ngram_loaders['train']):\n",
    "        for i, (inp, target) in enumerate(loaders_dict['train']):\n",
    "            \n",
    "            optimizer.zero_grad()\n",
    "            inp = inp.to(current_device)\n",
    "            target = target.to(current_device)\n",
    "            logits = model(inp)\n",
    "\n",
    "            loss = criterion(logits.view(-1, logits.size(-1)), target.view(-1))\n",
    "\n",
    "            loss.backward()\n",
    "            optimizer.step()\n",
    "\n",
    "            train_log_cache.append(loss.item())  \n",
    "        \n",
    "            if i % 100 == 0: \n",
    "              print('{} | Number steps {}'.format(dt.datetime.now(), i))\n",
    "                \n",
    "        avg_loss = sum(train_log_cache)/len(train_log_cache)\n",
    "        print('{} | Epoch {} avg train loss = {:.{prec}f}'.format(dt.datetime.now(), epoch_number+1, avg_loss, prec=4))\n",
    "     \n",
    "        train_log_cache = []\n",
    "      \n",
    "        #do valid\n",
    "        valid_losses = []\n",
    "        model.eval()\n",
    "        with torch.no_grad():\n",
    "            for i, (inp, target) in enumerate(loaders_dict['valid']):\n",
    "\n",
    "                inp = inp.to(current_device)\n",
    "                target = target.to(current_device)\n",
    "                logits = model(inp)\n",
    "                loss = criterion(logits.view(-1, logits.size(-1)), target.view(-1))\n",
    "                valid_losses.append(loss.item())\n",
    "            avg_val_loss = sum(valid_losses) / len(valid_losses)\n",
    "            print('Epoch {} validation loss = {:.{prec}f}'.format(epoch_number+1, avg_val_loss, prec=4))\n",
    "\n",
    "            plot_cache.append((avg_loss, avg_val_loss))\n",
    "            \n",
    "            # Perplexity function is the same LSTM/RNN\n",
    "            val_ppl = lstm_perplexity(avg_val_loss)\n",
    "            print('Epoch {}, perplexity achieved {}'.format(epoch_number+1, val_ppl))\n",
    "            if val_ppl < best_perplexity:\n",
    "              torch.save(model.state_dict(), path_to_save)\n",
    "              best_perplexity = val_ppl\n",
    "    print('{} | Finished training in {}'.format(dt.datetime.now(), dt.datetime.now() - start_time))\n",
    "          \n",
    "    return plot_cache"
   ]
  },
  {
   "cell_type": "code",
   "execution_count": 0,
   "metadata": {
    "colab": {
     "base_uri": "https://localhost:8080/",
     "height": 1000
    },
    "colab_type": "code",
    "id": "1u5M1DNd2Og1",
    "outputId": "24eef1c9-0448-4a16-fe1d-4b476eb24b38"
   },
   "outputs": [
    {
     "name": "stdout",
     "output_type": "stream",
     "text": [
      "2019-10-02 01:00:27.574590 | Starting training\n",
      "2019-10-02 01:00:27.576968 | Epoch 1\n",
      "2019-10-02 01:00:27.878605 | Number steps 0\n",
      "2019-10-02 01:00:47.922668 | Number steps 100\n",
      "2019-10-02 01:01:08.081708 | Number steps 200\n",
      "2019-10-02 01:01:28.989724 | Number steps 300\n",
      "2019-10-02 01:01:48.858173 | Number steps 400\n",
      "2019-10-02 01:02:08.982005 | Number steps 500\n",
      "2019-10-02 01:02:29.433522 | Number steps 600\n",
      "2019-10-02 01:02:31.459611 | Epoch 1 avg train loss = 6.4174\n",
      "Epoch 1 validation loss = 5.7755\n",
      "Epoch 1, perplexity achieved 322.2948576543607\n",
      "2019-10-02 01:02:37.076556 | Epoch 2\n",
      "2019-10-02 01:02:37.323707 | Number steps 0\n",
      "2019-10-02 01:02:57.181535 | Number steps 100\n",
      "2019-10-02 01:03:17.869424 | Number steps 200\n",
      "2019-10-02 01:03:38.507705 | Number steps 300\n",
      "2019-10-02 01:03:58.383793 | Number steps 400\n",
      "2019-10-02 01:04:18.900043 | Number steps 500\n",
      "2019-10-02 01:04:39.431193 | Number steps 600\n",
      "2019-10-02 01:04:41.610963 | Epoch 2 avg train loss = 5.8439\n",
      "Epoch 2 validation loss = 5.5393\n",
      "Epoch 2, perplexity achieved 254.4936345621147\n",
      "2019-10-02 01:04:47.122766 | Epoch 3\n",
      "2019-10-02 01:04:47.409798 | Number steps 0\n",
      "2019-10-02 01:05:07.536133 | Number steps 100\n",
      "2019-10-02 01:05:28.041639 | Number steps 200\n",
      "2019-10-02 01:05:48.563481 | Number steps 300\n",
      "2019-10-02 01:06:09.088268 | Number steps 400\n",
      "2019-10-02 01:06:29.200367 | Number steps 500\n",
      "2019-10-02 01:06:49.677177 | Number steps 600\n",
      "2019-10-02 01:06:51.782910 | Epoch 3 avg train loss = 5.6222\n",
      "Epoch 3 validation loss = 5.4184\n",
      "Epoch 3, perplexity achieved 225.51756898122392\n",
      "2019-10-02 01:06:57.341098 | Epoch 4\n",
      "2019-10-02 01:06:57.603796 | Number steps 0\n",
      "2019-10-02 01:07:18.308400 | Number steps 100\n",
      "2019-10-02 01:07:39.394379 | Number steps 200\n",
      "2019-10-02 01:07:59.097621 | Number steps 300\n",
      "2019-10-02 01:08:19.061231 | Number steps 400\n",
      "2019-10-02 01:08:39.515459 | Number steps 500\n",
      "2019-10-02 01:08:59.731878 | Number steps 600\n",
      "2019-10-02 01:09:01.727749 | Epoch 4 avg train loss = 5.4724\n",
      "Epoch 4 validation loss = 5.3474\n",
      "Epoch 4, perplexity achieved 210.06139386190586\n",
      "2019-10-02 01:09:07.263611 | Epoch 5\n",
      "2019-10-02 01:09:07.472265 | Number steps 0\n",
      "2019-10-02 01:09:27.859325 | Number steps 100\n",
      "2019-10-02 01:09:47.798896 | Number steps 200\n",
      "2019-10-02 01:10:07.867984 | Number steps 300\n",
      "2019-10-02 01:10:28.162717 | Number steps 400\n",
      "2019-10-02 01:10:49.485603 | Number steps 500\n",
      "2019-10-02 01:11:09.740574 | Number steps 600\n",
      "2019-10-02 01:11:11.833110 | Epoch 5 avg train loss = 5.3585\n",
      "Epoch 5 validation loss = 5.2987\n",
      "Epoch 5, perplexity achieved 200.07688413138428\n",
      "2019-10-02 01:11:17.393400 | Epoch 6\n",
      "2019-10-02 01:11:17.565598 | Number steps 0\n",
      "2019-10-02 01:11:38.104433 | Number steps 100\n",
      "2019-10-02 01:11:58.406852 | Number steps 200\n",
      "2019-10-02 01:12:18.899583 | Number steps 300\n",
      "2019-10-02 01:12:39.112153 | Number steps 400\n",
      "2019-10-02 01:12:59.572414 | Number steps 500\n",
      "2019-10-02 01:13:20.089233 | Number steps 600\n",
      "2019-10-02 01:13:22.147864 | Epoch 6 avg train loss = 5.2662\n",
      "Epoch 6 validation loss = 5.2702\n",
      "Epoch 6, perplexity achieved 194.4521044977905\n",
      "2019-10-02 01:13:27.625372 | Epoch 7\n",
      "2019-10-02 01:13:27.796006 | Number steps 0\n",
      "2019-10-02 01:13:48.867700 | Number steps 100\n",
      "2019-10-02 01:14:09.112506 | Number steps 200\n",
      "2019-10-02 01:14:28.576901 | Number steps 300\n",
      "2019-10-02 01:14:48.717098 | Number steps 400\n",
      "2019-10-02 01:15:09.314089 | Number steps 500\n",
      "2019-10-02 01:15:29.573553 | Number steps 600\n",
      "2019-10-02 01:15:31.710508 | Epoch 7 avg train loss = 5.1889\n",
      "Epoch 7 validation loss = 5.2455\n",
      "Epoch 7, perplexity achieved 189.71565241530683\n",
      "2019-10-02 01:15:37.416269 | Epoch 8\n",
      "2019-10-02 01:15:37.576210 | Number steps 0\n",
      "2019-10-02 01:15:57.654077 | Number steps 100\n",
      "2019-10-02 01:16:17.872074 | Number steps 200\n",
      "2019-10-02 01:16:37.945232 | Number steps 300\n",
      "2019-10-02 01:16:58.290428 | Number steps 400\n",
      "2019-10-02 01:17:19.188182 | Number steps 500\n",
      "2019-10-02 01:17:39.413268 | Number steps 600\n",
      "2019-10-02 01:17:41.621161 | Epoch 8 avg train loss = 5.1229\n",
      "Epoch 8 validation loss = 5.2270\n",
      "Epoch 8, perplexity achieved 186.2382209449899\n",
      "2019-10-02 01:17:47.151646 | Epoch 9\n",
      "2019-10-02 01:17:47.426057 | Number steps 0\n",
      "2019-10-02 01:18:07.151126 | Number steps 100\n",
      "2019-10-02 01:18:27.684233 | Number steps 200\n"
     ]
    },
    {
     "ename": "RuntimeError",
     "evalue": "ignored",
     "output_type": "error",
     "traceback": [
      "\u001b[0;31m---------------------------------------------------------------------------\u001b[0m",
      "\u001b[0;31mRuntimeError\u001b[0m                              Traceback (most recent call last)",
      "\u001b[0;32m<ipython-input-33-b2e68e36d7e6>\u001b[0m in \u001b[0;36m<module>\u001b[0;34m()\u001b[0m\n\u001b[0;32m----> 1\u001b[0;31m \u001b[0mrnn_losses\u001b[0m \u001b[0;34m=\u001b[0m \u001b[0mtrain_rnn\u001b[0m\u001b[0;34m(\u001b[0m\u001b[0mrnn_model\u001b[0m\u001b[0;34m,\u001b[0m \u001b[0mwiki_loaders\u001b[0m\u001b[0;34m,\u001b[0m \u001b[0mrnn_criterion\u001b[0m\u001b[0;34m,\u001b[0m \u001b[0mrnn_optimizer\u001b[0m\u001b[0;34m)\u001b[0m\u001b[0;34m\u001b[0m\u001b[0;34m\u001b[0m\u001b[0m\n\u001b[0m\u001b[1;32m      2\u001b[0m \u001b[0mpkl\u001b[0m\u001b[0;34m.\u001b[0m\u001b[0mdump\u001b[0m\u001b[0;34m(\u001b[0m\u001b[0mrnn_losses\u001b[0m\u001b[0;34m,\u001b[0m \u001b[0mopen\u001b[0m\u001b[0;34m(\u001b[0m\u001b[0;34m'baseline_rnn_losses.p'\u001b[0m\u001b[0;34m,\u001b[0m\u001b[0;34m'wb'\u001b[0m\u001b[0;34m)\u001b[0m\u001b[0;34m)\u001b[0m\u001b[0;34m\u001b[0m\u001b[0;34m\u001b[0m\u001b[0m\n",
      "\u001b[0;32m<ipython-input-32-50f344a468d0>\u001b[0m in \u001b[0;36mtrain_rnn\u001b[0;34m(model, loaders_dict, criterion, optimizer, path_to_save)\u001b[0m\n\u001b[1;32m     25\u001b[0m             \u001b[0mloss\u001b[0m \u001b[0;34m=\u001b[0m \u001b[0mcriterion\u001b[0m\u001b[0;34m(\u001b[0m\u001b[0mlogits\u001b[0m\u001b[0;34m.\u001b[0m\u001b[0mview\u001b[0m\u001b[0;34m(\u001b[0m\u001b[0;34m-\u001b[0m\u001b[0;36m1\u001b[0m\u001b[0;34m,\u001b[0m \u001b[0mlogits\u001b[0m\u001b[0;34m.\u001b[0m\u001b[0msize\u001b[0m\u001b[0;34m(\u001b[0m\u001b[0;34m-\u001b[0m\u001b[0;36m1\u001b[0m\u001b[0;34m)\u001b[0m\u001b[0;34m)\u001b[0m\u001b[0;34m,\u001b[0m \u001b[0mtarget\u001b[0m\u001b[0;34m.\u001b[0m\u001b[0mview\u001b[0m\u001b[0;34m(\u001b[0m\u001b[0;34m-\u001b[0m\u001b[0;36m1\u001b[0m\u001b[0;34m)\u001b[0m\u001b[0;34m)\u001b[0m\u001b[0;34m\u001b[0m\u001b[0;34m\u001b[0m\u001b[0m\n\u001b[1;32m     26\u001b[0m \u001b[0;34m\u001b[0m\u001b[0m\n\u001b[0;32m---> 27\u001b[0;31m             \u001b[0mloss\u001b[0m\u001b[0;34m.\u001b[0m\u001b[0mbackward\u001b[0m\u001b[0;34m(\u001b[0m\u001b[0;34m)\u001b[0m\u001b[0;34m\u001b[0m\u001b[0;34m\u001b[0m\u001b[0m\n\u001b[0m\u001b[1;32m     28\u001b[0m             \u001b[0moptimizer\u001b[0m\u001b[0;34m.\u001b[0m\u001b[0mstep\u001b[0m\u001b[0;34m(\u001b[0m\u001b[0;34m)\u001b[0m\u001b[0;34m\u001b[0m\u001b[0;34m\u001b[0m\u001b[0m\n\u001b[1;32m     29\u001b[0m \u001b[0;34m\u001b[0m\u001b[0m\n",
      "\u001b[0;32m/usr/local/lib/python3.6/dist-packages/torch/tensor.py\u001b[0m in \u001b[0;36mbackward\u001b[0;34m(self, gradient, retain_graph, create_graph)\u001b[0m\n\u001b[1;32m    116\u001b[0m                 \u001b[0mproducts\u001b[0m\u001b[0;34m.\u001b[0m \u001b[0mDefaults\u001b[0m \u001b[0mto\u001b[0m\u001b[0;31m \u001b[0m\u001b[0;31m`\u001b[0m\u001b[0;31m`\u001b[0m\u001b[0;32mFalse\u001b[0m\u001b[0;31m`\u001b[0m\u001b[0;31m`\u001b[0m\u001b[0;34m.\u001b[0m\u001b[0;34m\u001b[0m\u001b[0;34m\u001b[0m\u001b[0m\n\u001b[1;32m    117\u001b[0m         \"\"\"\n\u001b[0;32m--> 118\u001b[0;31m         \u001b[0mtorch\u001b[0m\u001b[0;34m.\u001b[0m\u001b[0mautograd\u001b[0m\u001b[0;34m.\u001b[0m\u001b[0mbackward\u001b[0m\u001b[0;34m(\u001b[0m\u001b[0mself\u001b[0m\u001b[0;34m,\u001b[0m \u001b[0mgradient\u001b[0m\u001b[0;34m,\u001b[0m \u001b[0mretain_graph\u001b[0m\u001b[0;34m,\u001b[0m \u001b[0mcreate_graph\u001b[0m\u001b[0;34m)\u001b[0m\u001b[0;34m\u001b[0m\u001b[0;34m\u001b[0m\u001b[0m\n\u001b[0m\u001b[1;32m    119\u001b[0m \u001b[0;34m\u001b[0m\u001b[0m\n\u001b[1;32m    120\u001b[0m     \u001b[0;32mdef\u001b[0m \u001b[0mregister_hook\u001b[0m\u001b[0;34m(\u001b[0m\u001b[0mself\u001b[0m\u001b[0;34m,\u001b[0m \u001b[0mhook\u001b[0m\u001b[0;34m)\u001b[0m\u001b[0;34m:\u001b[0m\u001b[0;34m\u001b[0m\u001b[0;34m\u001b[0m\u001b[0m\n",
      "\u001b[0;32m/usr/local/lib/python3.6/dist-packages/torch/autograd/__init__.py\u001b[0m in \u001b[0;36mbackward\u001b[0;34m(tensors, grad_tensors, retain_graph, create_graph, grad_variables)\u001b[0m\n\u001b[1;32m     91\u001b[0m     Variable._execution_engine.run_backward(\n\u001b[1;32m     92\u001b[0m         \u001b[0mtensors\u001b[0m\u001b[0;34m,\u001b[0m \u001b[0mgrad_tensors\u001b[0m\u001b[0;34m,\u001b[0m \u001b[0mretain_graph\u001b[0m\u001b[0;34m,\u001b[0m \u001b[0mcreate_graph\u001b[0m\u001b[0;34m,\u001b[0m\u001b[0;34m\u001b[0m\u001b[0;34m\u001b[0m\u001b[0m\n\u001b[0;32m---> 93\u001b[0;31m         allow_unreachable=True)  # allow_unreachable flag\n\u001b[0m\u001b[1;32m     94\u001b[0m \u001b[0;34m\u001b[0m\u001b[0m\n\u001b[1;32m     95\u001b[0m \u001b[0;34m\u001b[0m\u001b[0m\n",
      "\u001b[0;31mRuntimeError\u001b[0m: CUDA out of memory. Tried to allocate 1.66 GiB (GPU 0; 11.17 GiB total capacity; 5.20 GiB already allocated; 1.41 GiB free; 4.24 GiB cached)"
     ]
    }
   ],
   "source": [
    "rnn_losses = train_rnn(rnn_model, wiki_loaders, rnn_criterion, rnn_optimizer)\n",
    "pkl.dump(rnn_losses, open('baseline_rnn_losses.p','wb'))"
   ]
  },
  {
   "cell_type": "code",
   "execution_count": 0,
   "metadata": {
    "colab": {},
    "colab_type": "code",
    "id": "Zq1aD3loD6jQ"
   },
   "outputs": [],
   "source": [
    "# !kill -9 -1"
   ]
  },
  {
   "cell_type": "markdown",
   "metadata": {
    "colab_type": "text",
    "id": "97gvAHpLerGd"
   },
   "source": [
    "### II.1 LSTM and Hyper-Parameters"
   ]
  },
  {
   "cell_type": "code",
   "execution_count": 27,
   "metadata": {
    "colab": {},
    "colab_type": "code",
    "id": "esNNWDIUerGd"
   },
   "outputs": [],
   "source": [
    "def grid_search(emb_dims, dropouts):\n",
    "    \n",
    "    \n",
    "    \n",
    "    for emb_dim in emb_dims:\n",
    "        for dropout in dropouts:\n",
    "      \n",
    "            options = {\n",
    "                'num_embeddings': len(wiki_dict),\n",
    "                'embedding_dim': emb_dim,\n",
    "                'padding_idx': wiki_dict.get_id('<pad>'),\n",
    "                'input_size': emb_dim,\n",
    "                'hidden_size': hidden_size,\n",
    "                'num_layers': num_layers,\n",
    "                'rnn_dropout': dropout,\n",
    "            }\n",
    "            lstm_model = LSTMModel(options).to(current_device)\n",
    "            lstm_losses = train_lstm(lstm_model, wiki_loaders, lstm_criterion, lstm_optimizer, path+ \"emb_dim=\" + str(emb_dim) + \"_dropout=\" + str(dropout) + \".pt\")\n",
    "            pkl.dump(lstm_losses, open(path+ \"emb_dim=\" + str(emb_dim) +  \"_dropout=\" + str(dropout) + \".p\",'wb'))"
   ]
  },
  {
   "cell_type": "markdown",
   "metadata": {
    "colab_type": "text",
    "id": "qL2QPU8terGf"
   },
   "source": [
    "#### Results (LSTM vs. Baseline)"
   ]
  },
  {
   "cell_type": "code",
   "execution_count": 28,
   "metadata": {
    "colab": {},
    "colab_type": "code",
    "id": "c9vX-91TerGg"
   },
   "outputs": [
    {
     "data": {
      "image/png": "[encoded data removed]",
      "text/plain": [
       "<Figure size 864x864 with 1 Axes>"
      ]
     },
     "metadata": {
      "needs_background": "light"
     },
     "output_type": "display_data"
    }
   ],
   "source": [
    "rnn_baseline_ppl = pkl.load(open(path+ 'baseline_rnn_losses.p','rb'))\n",
    "rnn_baseline_ppl = [lstm_perplexity(ppl[1]) for ppl in rnn_baseline_ppl]\n",
    "\n",
    "lstm_baseline_ppl = pkl.load(open(path+ 'baseline_lstm_losses.p','rb'))\n",
    "lstm_baseline_ppl = [lstm_perplexity(ppl[1]) for ppl in lstm_baseline_ppl]\n",
    "\n",
    "best_lstm_ppl = pkl.load(open(path+ 'Grid Search/emb_dim=128_dropout=0.1.p','rb'))\n",
    "best_lstm_ppl = [lstm_perplexity(ppl[1]) for ppl in best_lstm_ppl]\n",
    "\n",
    "plt.figure(figsize=(12,12))\n",
    "plt.plot([i for i in range(len(rnn_baseline_ppl))], rnn_baseline_ppl, marker='*', color='orange', linewidth=2, label = 'baseline RNN')\n",
    "plt.plot([i for i in range(len(lstm_baseline_ppl))], lstm_baseline_ppl, marker='.',color='green', linewidth=2, label = 'baseline LSTM')\n",
    "plt.plot([i for i in range(len(best_lstm_ppl))], best_lstm_ppl, marker='^',color='blue', linewidth=2, label = 'best LSTM')\n",
    "plt.xticks([i for i in range(10)])\n",
    "plt.title('Validation Perplexity per Epoch')\n",
    "plt.ylabel('Validation Perplexity')\n",
    "plt.xlabel('Epoch')\n",
    "plt.legend(title='Models:')\n",
    "plt.show()"
   ]
  },
  {
   "cell_type": "markdown",
   "metadata": {},
   "source": [
    "As we can see from the graph the baseline LSTM model did not perfom better than the baseline RNN but the **best LSTM** (tuned) model (embedding_dimension = 128, dropout = 0.1) did outperfom the baseline RNN after training 10 epochs."
   ]
  },
  {
   "cell_type": "markdown",
   "metadata": {
    "colab_type": "text",
    "id": "Xz5l25EperGh"
   },
   "source": [
    "#### Performance Variation Based on Hyperparameter Values"
   ]
  },
  {
   "cell_type": "code",
   "execution_count": 29,
   "metadata": {
    "colab": {},
    "colab_type": "code",
    "id": "yMlxEDtierGi"
   },
   "outputs": [
    {
     "data": {
      "image/png": "[encoded data removed]",
      "text/plain": [
       "<Figure size 864x864 with 1 Axes>"
      ]
     },
     "metadata": {
      "needs_background": "light"
     },
     "output_type": "display_data"
    }
   ],
   "source": [
    "models_dir = [file for file in os.listdir(path+'Grid Search/') if file.endswith('.p')]\n",
    "models_dir.sort()\n",
    "perplexities = []\n",
    "names = []\n",
    "%matplotlib inline\n",
    "for file in models_dir:\n",
    "    ppl_file = pkl.load(open(path+'Grid Search/'+file,'rb'))\n",
    "    perplexities.append(lstm_perplexity(ppl_file[-1][1]))\n",
    "    emb_d = re.search(r'(?<=\\=)\\d+', file).group(0)\n",
    "    drop_out = re.search(r'(?<=\\=)\\d\\.\\d', file).group(0)\n",
    "    names.append(emb_d + '\\n'+ drop_out)\n",
    "\n",
    "x_pos = range(len(perplexities))\n",
    "plt.figure(figsize=(12,12))\n",
    "plt.bar(x_pos, perplexities, align='center', alpha=0.5)\n",
    "plt.xticks(x_pos, names)\n",
    "plt.ylabel('Validation Perplexity')\n",
    "plt.xlabel('Embedding Dimension\\nDrop out Probability')\n",
    "plt.title('Lowest Validation Perplexity for each hyper-parameter pair')\n",
    "plt.show()"
   ]
  },
  {
   "cell_type": "markdown",
   "metadata": {},
   "source": [
    "The bar plot above shows the performance in terms of perplexity of every hyperparameter combination we tried.\n",
    "\n",
    "Embedding_dimensions = {32, 64, 128}\n",
    "\n",
    "Dropout = {0.1, 0.3, 0.5}"
   ]
  },
  {
   "cell_type": "markdown",
   "metadata": {
    "colab_type": "text",
    "id": "01x_Q25GerGk"
   },
   "source": [
    "### II.2 Learned Embeddings"
   ]
  },
  {
   "cell_type": "markdown",
   "metadata": {
    "colab_type": "text",
    "id": "ivqkICEkerGk"
   },
   "source": [
    "#### Utilities\n",
    "\n",
    "Below is code to use [UMAP](https://umap-learn.readthedocs.io/en/latest/) to find a 2-dimensional representation of a weight matrix, and plot the resulting 2-dimensional points that correspond to certain words.\n",
    "\n",
    "Use `!pip install umap-learn` to install UMAP."
   ]
  },
  {
   "cell_type": "code",
   "execution_count": 31,
   "metadata": {},
   "outputs": [],
   "source": [
    "# !pip install umap-learn"
   ]
  },
  {
   "cell_type": "code",
   "execution_count": 32,
   "metadata": {
    "colab": {},
    "colab_type": "code",
    "id": "cqTr_62RerGl",
    "outputId": "31658b4d-2f00-4613-ea47-1cf5877cb79b"
   },
   "outputs": [
    {
     "name": "stdout",
     "output_type": "stream",
     "text": [
      "Populating the interactive namespace from numpy and matplotlib\n"
     ]
    }
   ],
   "source": [
    "%pylab inline \n",
    "import umap\n",
    "import matplotlib.pyplot as plt\n",
    "\n",
    "def umap_plot(weight_matrix, word_ids, words):\n",
    "    \"\"\"Run UMAP on the entire Vxd `weight_matrix` (e.g. model.lookup.weight or model.projection.weight),\n",
    "    And plot the points corresponding to the given `word_ids`. \"\"\"\n",
    "    reduced = umap.UMAP(min_dist=0.0001).fit_transform(weight_matrix.detach().cpu().numpy())\n",
    "    plt.figure(figsize=(10,10))\n",
    "\n",
    "    to_plot = reduced[word_ids, :]\n",
    "    plt.scatter(to_plot[:, 0], to_plot[:, 1])\n",
    "    for i, word_id in enumerate(word_ids):\n",
    "        current_point = to_plot[i]\n",
    "        plt.annotate(words[i], (current_point[0], current_point[1]))\n",
    "\n",
    "    plt.grid()\n",
    "    plt.show()"
   ]
  },
  {
   "cell_type": "markdown",
   "metadata": {},
   "source": [
    "#### Import best LSTM model with correct settings"
   ]
  },
  {
   "cell_type": "code",
   "execution_count": 33,
   "metadata": {},
   "outputs": [],
   "source": [
    "lstm_best_hidden_size = 128\n",
    "lstm_best_embedding_size = 128\n",
    "lstm_best_rnn_dropout = 0.1\n",
    "lstm_best_num_layers = 2\n",
    "\n",
    "lstm_best_options = {\n",
    "        'num_embeddings': len(wiki_dict),\n",
    "        'embedding_dim': lstm_best_embedding_size,\n",
    "        'padding_idx': wiki_dict.get_id('<pad>'),\n",
    "        'input_size': lstm_best_embedding_size,\n",
    "        'hidden_size': lstm_best_hidden_size,\n",
    "        'num_layers': lstm_best_num_layers,\n",
    "        'rnn_dropout': lstm_best_rnn_dropout,\n",
    "    }"
   ]
  },
  {
   "cell_type": "code",
   "execution_count": 34,
   "metadata": {},
   "outputs": [
    {
     "name": "stdout",
     "output_type": "stream",
     "text": [
      "LSTMModel(\n",
      "  (lookup): Embedding(28792, 128, padding_idx=2)\n",
      "  (lstm): LSTM(128, 128, num_layers=2, batch_first=True, dropout=0.1)\n",
      "  (projection): Linear(in_features=128, out_features=28792, bias=True)\n",
      ")\n"
     ]
    }
   ],
   "source": [
    "lstm_best_model = LSTMModel(lstm_best_options).to(\"cpu\")\n",
    "lstm_best_model.load_state_dict(torch.load(path+'Grid Search/emb_dim=128_dropout=0.1.pt',map_location=\"cpu\"))\n",
    "lstm_best_model.eval()\n",
    "print(lstm_best_model)"
   ]
  },
  {
   "cell_type": "code",
   "execution_count": 35,
   "metadata": {},
   "outputs": [],
   "source": [
    "import torch.nn.functional as F\n",
    "\n",
    "def find_similar_word(input_word,wiki_dict,model,linear_layer=False,verbose=False):\n",
    "    emb_matrix = model.lookup.weight\n",
    "    vocab_size = emb_matrix.size()[0]\n",
    "    \n",
    "    input_index = wiki_dict.get_id(input_word)\n",
    "    input_tensor = emb_matrix[input_index]\n",
    "    if linear_layer:\n",
    "        input_tensor = model.projection(input_tensor)\n",
    "    \n",
    "    # ten best & worst\n",
    "    ten_best = [(-1,None) for _ in range(10)]\n",
    "    ten_worst = [(1,None) for _ in range(10)]\n",
    "    \n",
    "    for iter_index in range(0,vocab_size):\n",
    "        if iter_index==input_index:\n",
    "            continue\n",
    "        candidate_tensor = emb_matrix[iter_index]\n",
    "        if linear_layer:\n",
    "            candidate_tensor = model.projection(candidate_tensor)\n",
    "        sim = F.cosine_similarity(input_tensor,candidate_tensor,dim=0)\n",
    "        \n",
    "        # sort into best\n",
    "        ten_best.append((sim,iter_index))\n",
    "        ten_best.sort()\n",
    "        ten_best.reverse()\n",
    "        ten_best = ten_best[:10]\n",
    "        \n",
    "        # sort into worst\n",
    "        ten_worst.append((sim,iter_index))\n",
    "        ten_worst.sort()\n",
    "        ten_worst = ten_worst[:10]\n",
    "    \n",
    "    distances = []\n",
    "    closest_ids = []\n",
    "    closest_words = []\n",
    "    if verbose:\n",
    "        print(\"~Printing closest words for:\",input_word)\n",
    "    for (dist,idx) in ten_best:\n",
    "        distance = dist.detach().numpy()\n",
    "        distances.append(distance)\n",
    "        closest_ids.append(idx)\n",
    "        word = wiki_dict.get_token(idx)\n",
    "        closest_words.append(word)\n",
    "        if verbose:\n",
    "            print(\"Word:\",word)\n",
    "            print(\"Distance:\",distance)\n",
    "        \n",
    "    distances = []\n",
    "    farthest_ids = []\n",
    "    farthest_words = []\n",
    "    if verbose:\n",
    "        print(\"\\n~Printing furthest words for:\",input_word)\n",
    "    for (dist,idx) in ten_worst:\n",
    "        distance = dist.detach().numpy()\n",
    "        distances.append(distance)\n",
    "        farthest_ids.append(idx)\n",
    "        word = wiki_dict.get_token(idx)\n",
    "        farthest_words.append(word)\n",
    "        if verbose:\n",
    "            print(\"Word:\",word)\n",
    "            print(\"Distance:\",distance)\n",
    "        \n",
    "    return closest_ids, closest_words, farthest_ids, farthest_words"
   ]
  },
  {
   "cell_type": "code",
   "execution_count": 36,
   "metadata": {},
   "outputs": [],
   "source": [
    "def find_and_plot_similar(word,wiki_dict,model,linear_layer=False,verbose=False):\n",
    "    closest_ids, closest_words, farthest_ids, farthest_words = find_similar_word(word,wiki_dict,model,linear_layer,verbose)\n",
    "    word_id = wiki_dict.get_id(word)\n",
    "    all_words = [word] + closest_words + farthest_words\n",
    "    all_ids = [word_id] + closest_ids + farthest_ids\n",
    "    \n",
    "    if verbose:\n",
    "        print(\"\\n\")\n",
    "        print(all_words)\n",
    "        print(all_ids)\n",
    "        \n",
    "    embedding_matrix = lstm_best_model.lookup.weight\n",
    "    umap_plot(embedding_matrix, all_ids, all_words)"
   ]
  },
  {
   "cell_type": "markdown",
   "metadata": {
    "colab_type": "text",
    "id": "OtBe0FmgerGo"
   },
   "source": [
    "#### II.2.1 Word Similarity"
   ]
  },
  {
   "cell_type": "markdown",
   "metadata": {
    "colab_type": "text",
    "id": "OJL5XRpDerGq"
   },
   "source": [
    "#### II.2.2 Embedding Layer"
   ]
  },
  {
   "cell_type": "code",
   "execution_count": 38,
   "metadata": {
    "colab": {},
    "colab_type": "code",
    "id": "5IWEkSzDerGn",
    "outputId": "53524f1e-e732-4b10-f17b-10c1eb8d9dae",
    "scrolled": false
   },
   "outputs": [
    {
     "name": "stdout",
     "output_type": "stream",
     "text": [
      "~Printing closest words for: run\n",
      "Word: alluded\n",
      "Distance: 0.3553196\n",
      "Word: prompts\n",
      "Distance: 0.3448161\n",
      "Word: cautiously\n",
      "Distance: 0.33822453\n",
      "Word: councils\n",
      "Distance: 0.3201861\n",
      "Word: ordinated\n",
      "Distance: 0.31427938\n",
      "Word: optimal\n",
      "Distance: 0.30636662\n",
      "Word: campaigned\n",
      "Distance: 0.29571116\n",
      "Word: guide\n",
      "Distance: 0.2953896\n",
      "Word: groups\n",
      "Distance: 0.29494783\n",
      "Word: miracles\n",
      "Distance: 0.29029915\n",
      "\n",
      "~Printing furthest words for: run\n",
      "Word: apprehends\n",
      "Distance: -0.3571485\n",
      "Word: holds\n",
      "Distance: -0.33304116\n",
      "Word: intimacy\n",
      "Distance: -0.3142384\n",
      "Word: ides\n",
      "Distance: -0.31286946\n",
      "Word: alun\n",
      "Distance: -0.3122073\n",
      "Word: trying\n",
      "Distance: -0.31213424\n",
      "Word: onomatopoeia\n",
      "Distance: -0.31151012\n",
      "Word: cache\n",
      "Distance: -0.3090949\n",
      "Word: 119\n",
      "Distance: -0.30104405\n",
      "Word: churchmen\n",
      "Distance: -0.30009112\n",
      "\n",
      "\n",
      "['run', 'alluded', 'prompts', 'cautiously', 'councils', 'ordinated', 'optimal', 'campaigned', 'guide', 'groups', 'miracles', 'apprehends', 'holds', 'intimacy', 'ides', 'alun', 'trying', 'onomatopoeia', 'cache', '119', 'churchmen']\n",
      "[3321, 4345, 15927, 19688, 22496, 22530, 16319, 12477, 5707, 4340, 20791, 26955, 7957, 23238, 25191, 24426, 2722, 27136, 15293, 10831, 26319]\n"
     ]
    },
    {
     "name": "stderr",
     "output_type": "stream",
     "text": [
      "/Users/laureanonisenbaum/anaconda3/envs/NLP2/lib/python3.6/site-packages/numba/compiler.py:602: NumbaPerformanceWarning: \n",
      "The keyword argument 'parallel=True' was specified but no transformation for parallel execution was possible.\n",
      "\n",
      "To find out why, try turning on parallel diagnostics, see http://numba.pydata.org/numba-doc/latest/user/parallel.html#diagnostics for help.\n",
      "\n",
      "File \"../../anaconda3/envs/NLP2/lib/python3.6/site-packages/umap/nndescent.py\", line 47:\n",
      "    @numba.njit(parallel=True)\n",
      "    def nn_descent(\n",
      "    ^\n",
      "\n",
      "  self.func_ir.loc))\n"
     ]
    },
    {
     "data": {
      "image/png": "[encoded data removed]",
      "text/plain": [
       "<Figure size 720x720 with 1 Axes>"
      ]
     },
     "metadata": {
      "needs_background": "light"
     },
     "output_type": "display_data"
    },
    {
     "name": "stdout",
     "output_type": "stream",
     "text": [
      "~Printing closest words for: book\n",
      "Word: 245\n",
      "Distance: 0.33284697\n",
      "Word: farsley\n",
      "Distance: 0.31698772\n",
      "Word: fatima\n",
      "Distance: 0.311865\n",
      "Word: semantic\n",
      "Distance: 0.3115352\n",
      "Word: mandy\n",
      "Distance: 0.30227664\n",
      "Word: acclaim\n",
      "Distance: 0.30156094\n",
      "Word: poehler\n",
      "Distance: 0.30013317\n",
      "Word: wieselman\n",
      "Distance: 0.2935726\n",
      "Word: 2d\n",
      "Distance: 0.29080433\n",
      "Word: shriners\n",
      "Distance: 0.28880095\n",
      "\n",
      "~Printing furthest words for: book\n",
      "Word: gar\n",
      "Distance: -0.32868758\n",
      "Word: midpoint\n",
      "Distance: -0.31578907\n",
      "Word: 1872\n",
      "Distance: -0.30505797\n",
      "Word: libanius\n",
      "Distance: -0.3016268\n",
      "Word: klaus\n",
      "Distance: -0.29987505\n",
      "Word: distinguish\n",
      "Distance: -0.29909062\n",
      "Word: dormitories\n",
      "Distance: -0.2984799\n",
      "Word: mercenary\n",
      "Distance: -0.29487216\n",
      "Word: lumbering\n",
      "Distance: -0.29190925\n",
      "Word: automated\n",
      "Distance: -0.28966695\n",
      "\n",
      "\n",
      "['book', '245', 'farsley', 'fatima', 'semantic', 'mandy', 'acclaim', 'poehler', 'wieselman', '2d', 'shriners', 'gar', 'midpoint', '1872', 'libanius', 'klaus', 'distinguish', 'dormitories', 'mercenary', 'lumbering', 'automated']\n",
      "[167, 24661, 24158, 27743, 26509, 26089, 7522, 7505, 15563, 20060, 14295, 14322, 17969, 13165, 23055, 14985, 4470, 14106, 24894, 24700, 11305]\n"
     ]
    },
    {
     "name": "stderr",
     "output_type": "stream",
     "text": [
      "/Users/laureanonisenbaum/anaconda3/envs/NLP2/lib/python3.6/site-packages/numba/compiler.py:602: NumbaPerformanceWarning: \n",
      "The keyword argument 'parallel=True' was specified but no transformation for parallel execution was possible.\n",
      "\n",
      "To find out why, try turning on parallel diagnostics, see http://numba.pydata.org/numba-doc/latest/user/parallel.html#diagnostics for help.\n",
      "\n",
      "File \"../../anaconda3/envs/NLP2/lib/python3.6/site-packages/umap/nndescent.py\", line 47:\n",
      "    @numba.njit(parallel=True)\n",
      "    def nn_descent(\n",
      "    ^\n",
      "\n",
      "  self.func_ir.loc))\n"
     ]
    },
    {
     "data": {
      "image/png": "[encoded data removed]",
      "text/plain": [
       "<Figure size 720x720 with 1 Axes>"
      ]
     },
     "metadata": {
      "needs_background": "light"
     },
     "output_type": "display_data"
    },
    {
     "name": "stdout",
     "output_type": "stream",
     "text": [
      "~Printing closest words for: church\n",
      "Word: communication\n",
      "Distance: 0.33648863\n",
      "Word: 650\n",
      "Distance: 0.313554\n",
      "Word: freya\n",
      "Distance: 0.30611455\n",
      "Word: aspect\n",
      "Distance: 0.30380893\n",
      "Word: ramsay\n",
      "Distance: 0.30105376\n",
      "Word: timpani\n",
      "Distance: 0.3008925\n",
      "Word: bree\n",
      "Distance: 0.2931851\n",
      "Word: portico\n",
      "Distance: 0.29178268\n",
      "Word: 1868\n",
      "Distance: 0.28944656\n",
      "Word: thorns\n",
      "Distance: 0.28909272\n",
      "\n",
      "~Printing furthest words for: church\n",
      "Word: rescind\n",
      "Distance: -0.34512445\n",
      "Word: t.s.\n",
      "Distance: -0.34496692\n",
      "Word: kashgar\n",
      "Distance: -0.34342402\n",
      "Word: e3\n",
      "Distance: -0.32222718\n",
      "Word: americanus\n",
      "Distance: -0.29986534\n",
      "Word: coincidences\n",
      "Distance: -0.299426\n",
      "Word: motoko\n",
      "Distance: -0.29930013\n",
      "Word: guillaume\n",
      "Distance: -0.29835534\n",
      "Word: shouts\n",
      "Distance: -0.29433286\n",
      "Word: mild\n",
      "Distance: -0.29403612\n",
      "\n",
      "\n",
      "['church', 'communication', '650', 'freya', 'aspect', 'ramsay', 'timpani', 'bree', 'portico', '1868', 'thorns', 'rescind', 't.s.', 'kashgar', 'e3', 'americanus', 'coincidences', 'motoko', 'guillaume', 'shouts', 'mild']\n",
      "[1732, 3695, 13576, 13318, 1191, 17778, 15419, 20238, 8049, 1545, 2264, 24609, 10496, 14104, 18823, 21513, 24623, 27262, 13567, 20832, 13889]\n"
     ]
    },
    {
     "name": "stderr",
     "output_type": "stream",
     "text": [
      "/Users/laureanonisenbaum/anaconda3/envs/NLP2/lib/python3.6/site-packages/numba/compiler.py:602: NumbaPerformanceWarning: \n",
      "The keyword argument 'parallel=True' was specified but no transformation for parallel execution was possible.\n",
      "\n",
      "To find out why, try turning on parallel diagnostics, see http://numba.pydata.org/numba-doc/latest/user/parallel.html#diagnostics for help.\n",
      "\n",
      "File \"../../anaconda3/envs/NLP2/lib/python3.6/site-packages/umap/nndescent.py\", line 47:\n",
      "    @numba.njit(parallel=True)\n",
      "    def nn_descent(\n",
      "    ^\n",
      "\n",
      "  self.func_ir.loc))\n"
     ]
    },
    {
     "data": {
      "image/png": "[encoded data removed]",
      "text/plain": [
       "<Figure size 720x720 with 1 Axes>"
      ]
     },
     "metadata": {
      "needs_background": "light"
     },
     "output_type": "display_data"
    },
    {
     "name": "stdout",
     "output_type": "stream",
     "text": [
      "~Printing closest words for: sex\n",
      "Word: unicameral\n",
      "Distance: 0.35018486\n",
      "Word: 835\n",
      "Distance: 0.33817306\n",
      "Word: cascade\n",
      "Distance: 0.33070326\n",
      "Word: culver\n",
      "Distance: 0.32808042\n",
      "Word: oregon\n",
      "Distance: 0.31686434\n",
      "Word: prospered\n",
      "Distance: 0.31251088\n",
      "Word: goo\n",
      "Distance: 0.31180486\n",
      "Word: ensuing\n",
      "Distance: 0.30561697\n",
      "Word: diversionary\n",
      "Distance: 0.29882315\n",
      "Word: day\n",
      "Distance: 0.29392537\n",
      "\n",
      "~Printing furthest words for: sex\n",
      "Word: hutchings\n",
      "Distance: -0.37683666\n",
      "Word: affiliate\n",
      "Distance: -0.36746424\n",
      "Word: 511\n",
      "Distance: -0.31914872\n",
      "Word: executioner\n",
      "Distance: -0.30481964\n",
      "Word: advisers\n",
      "Distance: -0.30414656\n",
      "Word: rhodesian\n",
      "Distance: -0.303659\n",
      "Word: stairway\n",
      "Distance: -0.3026471\n",
      "Word: guildhall\n",
      "Distance: -0.2971823\n",
      "Word: eddie\n",
      "Distance: -0.29717314\n",
      "Word: mortis\n",
      "Distance: -0.29023227\n",
      "\n",
      "\n",
      "['sex', 'unicameral', '835', 'cascade', 'culver', 'oregon', 'prospered', 'goo', 'ensuing', 'diversionary', 'day', 'hutchings', 'affiliate', '511', 'executioner', 'advisers', 'rhodesian', 'stairway', 'guildhall', 'eddie', 'mortis']\n",
      "[3804, 25415, 22606, 21011, 17415, 15302, 16821, 23614, 9743, 18366, 772, 23244, 2628, 24555, 15743, 21384, 25149, 13586, 23231, 7605, 22714]\n"
     ]
    },
    {
     "name": "stderr",
     "output_type": "stream",
     "text": [
      "/Users/laureanonisenbaum/anaconda3/envs/NLP2/lib/python3.6/site-packages/numba/compiler.py:602: NumbaPerformanceWarning: \n",
      "The keyword argument 'parallel=True' was specified but no transformation for parallel execution was possible.\n",
      "\n",
      "To find out why, try turning on parallel diagnostics, see http://numba.pydata.org/numba-doc/latest/user/parallel.html#diagnostics for help.\n",
      "\n",
      "File \"../../anaconda3/envs/NLP2/lib/python3.6/site-packages/umap/nndescent.py\", line 47:\n",
      "    @numba.njit(parallel=True)\n",
      "    def nn_descent(\n",
      "    ^\n",
      "\n",
      "  self.func_ir.loc))\n"
     ]
    },
    {
     "data": {
      "image/png": "[encoded data removed]",
      "text/plain": [
       "<Figure size 720x720 with 1 Axes>"
      ]
     },
     "metadata": {
      "needs_background": "light"
     },
     "output_type": "display_data"
    },
    {
     "name": "stdout",
     "output_type": "stream",
     "text": [
      "~Printing closest words for: sunny\n",
      "Word: sihanoukville\n",
      "Distance: 0.35348338\n",
      "Word: aforesaid\n",
      "Distance: 0.3334106\n",
      "Word: withoos\n",
      "Distance: 0.32882544\n",
      "Word: affectionate\n",
      "Distance: 0.31363574\n",
      "Word: dismayed\n",
      "Distance: 0.30282795\n",
      "Word: mick\n",
      "Distance: 0.30039725\n",
      "Word: divided\n",
      "Distance: 0.29843274\n",
      "Word: uncertain\n",
      "Distance: 0.29782757\n",
      "Word: wanna\n",
      "Distance: 0.29671177\n",
      "Word: merge\n",
      "Distance: 0.2958587\n",
      "\n",
      "~Printing furthest words for: sunny\n",
      "Word: raasay\n",
      "Distance: -0.32732373\n",
      "Word: prolog\n",
      "Distance: -0.3254991\n",
      "Word: quartet\n",
      "Distance: -0.319122\n",
      "Word: rebellious\n",
      "Distance: -0.31023437\n",
      "Word: corrected\n",
      "Distance: -0.3094371\n",
      "Word: 591\n",
      "Distance: -0.30762327\n",
      "Word: jessica\n",
      "Distance: -0.30680868\n",
      "Word: campus\n",
      "Distance: -0.30668715\n",
      "Word: souper\n",
      "Distance: -0.30363283\n",
      "Word: carapace\n",
      "Distance: -0.30074158\n",
      "\n",
      "\n",
      "['sunny', 'sihanoukville', 'aforesaid', 'withoos', 'affectionate', 'dismayed', 'mick', 'divided', 'uncertain', 'wanna', 'merge', 'raasay', 'prolog', 'quartet', 'rebellious', 'corrected', '591', 'jessica', 'campus', 'souper', 'carapace']\n",
      "[7587, 28295, 23903, 26833, 24795, 12286, 12531, 290, 8910, 20619, 4765, 27879, 26531, 5315, 20246, 11125, 23302, 7767, 12179, 27559, 20915]\n"
     ]
    },
    {
     "name": "stderr",
     "output_type": "stream",
     "text": [
      "/Users/laureanonisenbaum/anaconda3/envs/NLP2/lib/python3.6/site-packages/numba/compiler.py:602: NumbaPerformanceWarning: \n",
      "The keyword argument 'parallel=True' was specified but no transformation for parallel execution was possible.\n",
      "\n",
      "To find out why, try turning on parallel diagnostics, see http://numba.pydata.org/numba-doc/latest/user/parallel.html#diagnostics for help.\n",
      "\n",
      "File \"../../anaconda3/envs/NLP2/lib/python3.6/site-packages/umap/nndescent.py\", line 47:\n",
      "    @numba.njit(parallel=True)\n",
      "    def nn_descent(\n",
      "    ^\n",
      "\n",
      "  self.func_ir.loc))\n"
     ]
    },
    {
     "data": {
      "image/png": "[encoded data removed]",
      "text/plain": [
       "<Figure size 720x720 with 1 Axes>"
      ]
     },
     "metadata": {
      "needs_background": "light"
     },
     "output_type": "display_data"
    }
   ],
   "source": [
    "words = [\"run\", \"book\", \"church\", \"sex\", \"sunny\"]\n",
    "for word in words:\n",
    "    find_and_plot_similar(word, wiki_dict, lstm_best_model, linear_layer=False, verbose=True)"
   ]
  },
  {
   "cell_type": "markdown",
   "metadata": {
    "colab_type": "text",
    "id": "1WMSHRA6erGu"
   },
   "source": [
    "#### II.2.3 Projection Layer"
   ]
  },
  {
   "cell_type": "markdown",
   "metadata": {},
   "source": [
    "As we can see by comparing the results obtained above (Embedding Layer) and below (Linear Layer), the later achieves higher similarity scores. The visualization do differ, however, there does not seem to be clear/interpretable patterns in the obtained plots. Even in the areas where there seem to be clusters, the words are not deeply related in meaning."
   ]
  },
  {
   "cell_type": "code",
   "execution_count": 39,
   "metadata": {
    "colab": {},
    "colab_type": "code",
    "id": "3YuNafa2erGp",
    "scrolled": false
   },
   "outputs": [
    {
     "name": "stdout",
     "output_type": "stream",
     "text": [
      "~Printing closest words for: run\n",
      "Word: godfrey\n",
      "Distance: 0.7757449\n",
      "Word: 450\n",
      "Distance: 0.77397335\n",
      "Word: bestseller\n",
      "Distance: 0.76751417\n",
      "Word: transcribes\n",
      "Distance: 0.7594355\n",
      "Word: hydraulic\n",
      "Distance: 0.7500557\n",
      "Word: prophecy\n",
      "Distance: 0.74781233\n",
      "Word: antelope\n",
      "Distance: 0.73709035\n",
      "Word: demarcation\n",
      "Distance: 0.735106\n",
      "Word: platoon\n",
      "Distance: 0.7304617\n",
      "Word: trim\n",
      "Distance: 0.7293435\n",
      "\n",
      "~Printing furthest words for: run\n",
      "Word: polly\n",
      "Distance: -0.7688583\n",
      "Word: rediff.com\n",
      "Distance: -0.7636427\n",
      "Word: aggravated\n",
      "Distance: -0.75220305\n",
      "Word: battery\n",
      "Distance: -0.75118774\n",
      "Word: turk\n",
      "Distance: -0.74585456\n",
      "Word: kicks\n",
      "Distance: -0.74046767\n",
      "Word: crowns\n",
      "Distance: -0.73710394\n",
      "Word: hirosaki\n",
      "Distance: -0.73291343\n",
      "Word: invoked\n",
      "Distance: -0.73239696\n",
      "Word: courier\n",
      "Distance: -0.7310158\n",
      "\n",
      "\n",
      "['run', 'godfrey', '450', 'bestseller', 'transcribes', 'hydraulic', 'prophecy', 'antelope', 'demarcation', 'platoon', 'trim', 'polly', 'rediff.com', 'aggravated', 'battery', 'turk', 'kicks', 'crowns', 'hirosaki', 'invoked', 'courier']\n",
      "[3321, 7278, 9832, 21969, 22260, 25136, 20577, 21973, 14920, 11243, 17989, 22704, 3787, 26086, 1275, 7067, 5295, 4957, 27107, 5115, 16044]\n"
     ]
    },
    {
     "name": "stderr",
     "output_type": "stream",
     "text": [
      "/Users/laureanonisenbaum/anaconda3/envs/NLP2/lib/python3.6/site-packages/numba/compiler.py:602: NumbaPerformanceWarning: \n",
      "The keyword argument 'parallel=True' was specified but no transformation for parallel execution was possible.\n",
      "\n",
      "To find out why, try turning on parallel diagnostics, see http://numba.pydata.org/numba-doc/latest/user/parallel.html#diagnostics for help.\n",
      "\n",
      "File \"../../anaconda3/envs/NLP2/lib/python3.6/site-packages/umap/nndescent.py\", line 47:\n",
      "    @numba.njit(parallel=True)\n",
      "    def nn_descent(\n",
      "    ^\n",
      "\n",
      "  self.func_ir.loc))\n"
     ]
    },
    {
     "data": {
      "image/png": "[encoded data removed]",
      "text/plain": [
       "<Figure size 720x720 with 1 Axes>"
      ]
     },
     "metadata": {
      "needs_background": "light"
     },
     "output_type": "display_data"
    },
    {
     "name": "stdout",
     "output_type": "stream",
     "text": [
      "~Printing closest words for: book\n",
      "Word: decorative\n",
      "Distance: 0.46225014\n",
      "Word: anger\n",
      "Distance: 0.44444782\n",
      "Word: tularemia\n",
      "Distance: 0.43530637\n",
      "Word: kneeling\n",
      "Distance: 0.4333633\n",
      "Word: innovator\n",
      "Distance: 0.4215134\n",
      "Word: guitarist\n",
      "Distance: 0.42134628\n",
      "Word: intertropical\n",
      "Distance: 0.41406465\n",
      "Word: cosmetics\n",
      "Distance: 0.41286644\n",
      "Word: flank\n",
      "Distance: 0.4100551\n",
      "Word: lane\n",
      "Distance: 0.40706092\n",
      "\n",
      "~Printing furthest words for: book\n",
      "Word: colours\n",
      "Distance: -0.48256627\n",
      "Word: 618\n",
      "Distance: -0.47107485\n",
      "Word: trainer\n",
      "Distance: -0.4641575\n",
      "Word: rumor\n",
      "Distance: -0.45749736\n",
      "Word: buoy\n",
      "Distance: -0.4505871\n",
      "Word: truths\n",
      "Distance: -0.44226846\n",
      "Word: darryl\n",
      "Distance: -0.44222566\n",
      "Word: nielly\n",
      "Distance: -0.437913\n",
      "Word: carre\n",
      "Distance: -0.43618068\n",
      "Word: soldier\n",
      "Distance: -0.43211278\n",
      "\n",
      "\n",
      "['book', 'decorative', 'anger', 'tularemia', 'kneeling', 'innovator', 'guitarist', 'intertropical', 'cosmetics', 'flank', 'lane', 'colours', '618', 'trainer', 'rumor', 'buoy', 'truths', 'darryl', 'nielly', 'carre', 'soldier']\n",
      "[167, 7051, 6940, 24216, 8130, 12517, 5217, 24116, 11433, 15381, 10027, 11582, 17620, 7290, 11537, 17777, 24510, 25557, 17862, 22558, 11344]\n"
     ]
    },
    {
     "name": "stderr",
     "output_type": "stream",
     "text": [
      "/Users/laureanonisenbaum/anaconda3/envs/NLP2/lib/python3.6/site-packages/numba/compiler.py:602: NumbaPerformanceWarning: \n",
      "The keyword argument 'parallel=True' was specified but no transformation for parallel execution was possible.\n",
      "\n",
      "To find out why, try turning on parallel diagnostics, see http://numba.pydata.org/numba-doc/latest/user/parallel.html#diagnostics for help.\n",
      "\n",
      "File \"../../anaconda3/envs/NLP2/lib/python3.6/site-packages/umap/nndescent.py\", line 47:\n",
      "    @numba.njit(parallel=True)\n",
      "    def nn_descent(\n",
      "    ^\n",
      "\n",
      "  self.func_ir.loc))\n"
     ]
    },
    {
     "data": {
      "image/png": "[encoded data removed]",
      "text/plain": [
       "<Figure size 720x720 with 1 Axes>"
      ]
     },
     "metadata": {
      "needs_background": "light"
     },
     "output_type": "display_data"
    },
    {
     "name": "stdout",
     "output_type": "stream",
     "text": [
      "~Printing closest words for: church\n",
      "Word: ardhanarishvara\n",
      "Distance: 0.60929346\n",
      "Word: taste\n",
      "Distance: 0.60737294\n",
      "Word: domain\n",
      "Distance: 0.6069073\n",
      "Word: combat\n",
      "Distance: 0.600917\n",
      "Word: sify\n",
      "Distance: 0.6007058\n",
      "Word: alternately\n",
      "Distance: 0.59844184\n",
      "Word: anxious\n",
      "Distance: 0.5939168\n",
      "Word: serialized\n",
      "Distance: 0.5871244\n",
      "Word: running\n",
      "Distance: 0.5871032\n",
      "Word: refurbished\n",
      "Distance: 0.58089334\n",
      "\n",
      "~Printing furthest words for: church\n",
      "Word: exterior\n",
      "Distance: -0.62450963\n",
      "Word: olds\n",
      "Distance: -0.6193328\n",
      "Word: waiting\n",
      "Distance: -0.61428654\n",
      "Word: impacted\n",
      "Distance: -0.60310525\n",
      "Word: proliferation\n",
      "Distance: -0.60214496\n",
      "Word: autumn\n",
      "Distance: -0.59482074\n",
      "Word: julia\n",
      "Distance: -0.59227246\n",
      "Word: ecosystems\n",
      "Distance: -0.5886653\n",
      "Word: often\n",
      "Distance: -0.58387214\n",
      "Word: elegiac\n",
      "Distance: -0.5739987\n",
      "\n",
      "\n",
      "['church', 'ardhanarishvara', 'taste', 'domain', 'combat', 'sify', 'alternately', 'anxious', 'serialized', 'running', 'refurbished', 'exterior', 'olds', 'waiting', 'impacted', 'proliferation', 'autumn', 'julia', 'ecosystems', 'often', 'elegiac']\n",
      "[1732, 7987, 1863, 14338, 4209, 25042, 22254, 7800, 942, 3116, 22963, 1054, 13483, 3566, 16085, 13948, 1751, 7158, 17535, 1912, 20572]\n"
     ]
    },
    {
     "name": "stderr",
     "output_type": "stream",
     "text": [
      "/Users/laureanonisenbaum/anaconda3/envs/NLP2/lib/python3.6/site-packages/numba/compiler.py:602: NumbaPerformanceWarning: \n",
      "The keyword argument 'parallel=True' was specified but no transformation for parallel execution was possible.\n",
      "\n",
      "To find out why, try turning on parallel diagnostics, see http://numba.pydata.org/numba-doc/latest/user/parallel.html#diagnostics for help.\n",
      "\n",
      "File \"../../anaconda3/envs/NLP2/lib/python3.6/site-packages/umap/nndescent.py\", line 47:\n",
      "    @numba.njit(parallel=True)\n",
      "    def nn_descent(\n",
      "    ^\n",
      "\n",
      "  self.func_ir.loc))\n"
     ]
    },
    {
     "data": {
      "image/png": "[encoded data removed]",
      "text/plain": [
       "<Figure size 720x720 with 1 Axes>"
      ]
     },
     "metadata": {
      "needs_background": "light"
     },
     "output_type": "display_data"
    },
    {
     "name": "stdout",
     "output_type": "stream",
     "text": [
      "~Printing closest words for: sex\n",
      "Word: transports\n",
      "Distance: 0.59603137\n",
      "Word: informed\n",
      "Distance: 0.57018137\n",
      "Word: inside\n",
      "Distance: 0.56940037\n",
      "Word: lanthanide\n",
      "Distance: 0.5440486\n",
      "Word: rectify\n",
      "Distance: 0.5299932\n",
      "Word: physics\n",
      "Distance: 0.5291674\n",
      "Word: allstars\n",
      "Distance: 0.5249801\n",
      "Word: geographically\n",
      "Distance: 0.51802826\n",
      "Word: enforcement\n",
      "Distance: 0.51556104\n",
      "Word: hampered\n",
      "Distance: 0.51461154\n",
      "\n",
      "~Printing furthest words for: sex\n",
      "Word: lancaster\n",
      "Distance: -0.52510774\n",
      "Word: ferdan\n",
      "Distance: -0.5246384\n",
      "Word: mycological\n",
      "Distance: -0.513917\n",
      "Word: syndication\n",
      "Distance: -0.5083045\n",
      "Word: nagachandra\n",
      "Distance: -0.5039173\n",
      "Word: 420\n",
      "Distance: -0.5038248\n",
      "Word: 238\n",
      "Distance: -0.5037696\n",
      "Word: apocalyptic\n",
      "Distance: -0.50104624\n",
      "Word: sensations\n",
      "Distance: -0.49977815\n",
      "Word: denomination\n",
      "Distance: -0.49925414\n",
      "\n",
      "\n",
      "['sex', 'transports', 'informed', 'inside', 'lanthanide', 'rectify', 'physics', 'allstars', 'geographically', 'enforcement', 'hampered', 'lancaster', 'ferdan', 'mycological', 'syndication', 'nagachandra', '420', '238', 'apocalyptic', 'sensations', 'denomination']\n",
      "[3804, 15338, 1101, 1262, 28448, 28165, 3024, 25995, 13609, 14218, 15500, 12244, 24247, 6075, 25588, 25761, 14238, 24161, 8478, 22888, 6194]\n"
     ]
    },
    {
     "name": "stderr",
     "output_type": "stream",
     "text": [
      "/Users/laureanonisenbaum/anaconda3/envs/NLP2/lib/python3.6/site-packages/numba/compiler.py:602: NumbaPerformanceWarning: \n",
      "The keyword argument 'parallel=True' was specified but no transformation for parallel execution was possible.\n",
      "\n",
      "To find out why, try turning on parallel diagnostics, see http://numba.pydata.org/numba-doc/latest/user/parallel.html#diagnostics for help.\n",
      "\n",
      "File \"../../anaconda3/envs/NLP2/lib/python3.6/site-packages/umap/nndescent.py\", line 47:\n",
      "    @numba.njit(parallel=True)\n",
      "    def nn_descent(\n",
      "    ^\n",
      "\n",
      "  self.func_ir.loc))\n"
     ]
    },
    {
     "data": {
      "image/png": "[encoded data removed]",
      "text/plain": [
       "<Figure size 720x720 with 1 Axes>"
      ]
     },
     "metadata": {
      "needs_background": "light"
     },
     "output_type": "display_data"
    },
    {
     "name": "stdout",
     "output_type": "stream",
     "text": [
      "~Printing closest words for: sunny\n",
      "Word: mohandas\n",
      "Distance: 0.65405315\n",
      "Word: synchestra\n",
      "Distance: 0.64363015\n",
      "Word: to\n",
      "Distance: 0.64052826\n",
      "Word: formulaic\n",
      "Distance: 0.6367734\n",
      "Word: moor\n",
      "Distance: 0.62819576\n",
      "Word: husbands\n",
      "Distance: 0.62232065\n",
      "Word: preparing\n",
      "Distance: 0.6108864\n",
      "Word: disorders\n",
      "Distance: 0.6074786\n",
      "Word: rothschilds\n",
      "Distance: 0.6021331\n",
      "Word: famer\n",
      "Distance: 0.6019153\n",
      "\n",
      "~Printing furthest words for: sunny\n",
      "Word: wrinkled\n",
      "Distance: -0.62796813\n",
      "Word: terrain\n",
      "Distance: -0.62616354\n",
      "Word: offensive\n",
      "Distance: -0.6189858\n",
      "Word: umbo\n",
      "Distance: -0.6167681\n",
      "Word: shaggy\n",
      "Distance: -0.6146095\n",
      "Word: anthropology\n",
      "Distance: -0.6144015\n",
      "Word: willie\n",
      "Distance: -0.6061538\n",
      "Word: guarantees\n",
      "Distance: -0.60198367\n",
      "Word: abnormalities\n",
      "Distance: -0.6016209\n",
      "Word: 35\n",
      "Distance: -0.5892798\n",
      "\n",
      "\n",
      "['sunny', 'mohandas', 'synchestra', 'to', 'formulaic', 'moor', 'husbands', 'preparing', 'disorders', 'rothschilds', 'famer', 'wrinkled', 'terrain', 'offensive', 'umbo', 'shaggy', 'anthropology', 'willie', 'guarantees', 'abnormalities', '35']\n",
      "[7587, 26254, 8405, 11, 11076, 12168, 18040, 2095, 13896, 27422, 14605, 14909, 7311, 4065, 22038, 28695, 12437, 19867, 20535, 13867, 5422]\n"
     ]
    },
    {
     "name": "stderr",
     "output_type": "stream",
     "text": [
      "/Users/laureanonisenbaum/anaconda3/envs/NLP2/lib/python3.6/site-packages/numba/compiler.py:602: NumbaPerformanceWarning: \n",
      "The keyword argument 'parallel=True' was specified but no transformation for parallel execution was possible.\n",
      "\n",
      "To find out why, try turning on parallel diagnostics, see http://numba.pydata.org/numba-doc/latest/user/parallel.html#diagnostics for help.\n",
      "\n",
      "File \"../../anaconda3/envs/NLP2/lib/python3.6/site-packages/umap/nndescent.py\", line 47:\n",
      "    @numba.njit(parallel=True)\n",
      "    def nn_descent(\n",
      "    ^\n",
      "\n",
      "  self.func_ir.loc))\n"
     ]
    },
    {
     "data": {
      "image/png": "[encoded data removed]",
      "text/plain": [
       "<Figure size 720x720 with 1 Axes>"
      ]
     },
     "metadata": {
      "needs_background": "light"
     },
     "output_type": "display_data"
    }
   ],
   "source": [
    "words = [\"run\", \"book\", \"church\", \"sex\", \"sunny\"]\n",
    "for word in words:\n",
    "    find_and_plot_similar(word, wiki_dict, lstm_best_model, linear_layer=True, verbose=True)"
   ]
  },
  {
   "cell_type": "markdown",
   "metadata": {
    "colab_type": "text",
    "id": "ycvS0PEberGx"
   },
   "source": [
    " "
   ]
  },
  {
   "cell_type": "markdown",
   "metadata": {
    "colab_type": "text",
    "id": "WxqEAO4IerGy"
   },
   "source": [
    "### II.3 Scoring"
   ]
  },
  {
   "cell_type": "code",
   "execution_count": 40,
   "metadata": {
    "colab": {},
    "colab_type": "code",
    "id": "IwoHDo4xerGy"
   },
   "outputs": [],
   "source": [
    "def score_seq(seq, dictionary):\n",
    "  \n",
    "    s = dictionary.encode_token_seq(seq)\n",
    "    t = s[1:]\n",
    "    t.append(1)\n",
    "    \n",
    "    s_1 = torch.empty(1, len(s), dtype=torch.long).to(current_device)\n",
    "    t_1 = torch.empty(1, len(t), dtype=torch.long).to(current_device)\n",
    "    \n",
    "    for i in range(len(s)):\n",
    "      s_1[0, i] = s[i]\n",
    "      t_1[0, i] = t[i]\n",
    "    \n",
    "    options = {\n",
    "                'num_embeddings': len(wiki_dict),\n",
    "                'embedding_dim': 128,\n",
    "                'padding_idx': wiki_dict.get_id('<pad>'),\n",
    "                'input_size': 128,\n",
    "                'hidden_size': 128,\n",
    "                'num_layers': 2,\n",
    "                'rnn_dropout': 0.1,\n",
    "            }\n",
    "    model = LSTMModel(options).to(current_device)\n",
    "    best_model_path = path + \"Grid Search/emb_dim=128_dropout=0.1.pt\"\n",
    "    model.load_state_dict(torch.load(best_model_path,  map_location=torch.device(current_device)))\n",
    "    model.eval()\n",
    "    lstm_criterion = nn.CrossEntropyLoss(ignore_index=wiki_dict.get_id('<pad>'))\n",
    "       \n",
    "    logits = model(s_1)  \n",
    "    log_prob = -lstm_criterion(logits.view(-1, logits.size(-1)), t_1.view(-1))\n",
    "    \n",
    "    return log_prob.item()"
   ]
  },
  {
   "cell_type": "markdown",
   "metadata": {
    "colab_type": "text",
    "id": "58wLi3TIerG0"
   },
   "source": [
    "#### II.3.2 Highest and Lowest scoring sequences"
   ]
  },
  {
   "cell_type": "code",
   "execution_count": 41,
   "metadata": {
    "colab": {},
    "colab_type": "code",
    "id": "S77x0WAOerG1"
   },
   "outputs": [
    {
     "name": "stderr",
     "output_type": "stream",
     "text": [
      "100%|██████████| 78274/78274 [00:00<00:00, 110591.33it/s]\n",
      "100%|██████████| 8464/8464 [00:00<00:00, 149495.05it/s]\n",
      "100%|██████████| 9708/9708 [00:00<00:00, 139440.51it/s]\n"
     ]
    },
    {
     "name": "stdout",
     "output_type": "stream",
     "text": [
      "Worst 10:\n",
      "#0:\n",
      "['<bos>', '<bos>', '<bos>', 'harding', 'newport', 'william', 'towers', 'swansea', 'william', 'bowen', 'swansea']\n",
      "#1:\n",
      "['<bos>', '<bos>', '<bos>', 'jim', 'webb', 'newport', 'george', 'thomas', 'newport', 'unk', 'garrett', 'penarth', 'charlie', 'arthur', 'cardiff', 'norman']\n",
      "#2:\n",
      "['<bos>', '<bos>', '<bos>', '°', '20', '′', '56', '<unk>', 'e', 'about', '18', 'mi', '29', 'km']\n",
      "#3:\n",
      "['<bos>', '<bos>', '<bos>', 'dennis', 'ray', 'oil', 'can', 'boyd', 'former', 'major', 'league', 'baseball', 'pitcher', 'unk', 'league', 'baseball', 'catcher', 'paul', 'hardy', 'professional', 'basketball', 'player', 'derrick', 'unk', 'jay', 'powell', 'another', 'pitcher', 'joe', 'unk', 'played', 'in', 'the', 'nfl']\n",
      "#4:\n",
      "['<bos>', '<bos>', '<bos>', 'submission', 'hold', 'when', 'cage', 'ascended', 'a', 'padded', 'unk', 'and', 'jumped', 'off', 'onto', 'booker', 't', 'and', 'joe']\n",
      "#5:\n",
      "['<bos>', '<bos>', '<bos>', 'it', 'stars', 'jason', 'bateman', 'charlie', 'day', 'jason', 'sudeikis', 'jennifer', 'aniston', 'colin', 'farrell', 'kevin', 'spacey', 'and', 'jamie', 'unk']\n",
      "#6:\n",
      "['<bos>', '<bos>', '<bos>', 'unk', '1775', 'and', 'homarus', 'vulgaris', 'h.', 'milne', '@-@', 'edwards', '1837', 'and', 'also', 'because', 'friedrich', 'weber', \"'s\", 'description', 'of', 'the', 'genus', 'had', 'been', 'overlooked', 'until', 'rediscovered', 'by', 'mary', 'unk', 'rendering', 'any', 'prior', 'assignments', 'of', 'type', 'species', 'for', 'homarus', 'h.', 'milne', '@-@', 'edwards', '1837', 'invalid', 'for', 'homarus', 'weber', '1795', '\\n']\n",
      "#7:\n",
      "['<bos>', '<bos>', '<bos>', 'a', 'corps', '@-@', 'sized', 'command', 'based', 'at', 'rabaul', '4', '°', '11', '′', '56', '<unk>', 's', '152']\n",
      "#8:\n",
      "['<bos>', '<bos>', '<bos>', '–', 'pole', 'position', 'earned', 'by', 'points', 'standings', 'or', 'practice', 'time']\n",
      "#9:\n",
      "['<bos>', '<bos>', '<bos>', ' ', 'according', 'to', 'guitarist', 'kerry', 'king', 'yeah', 'slayer', 'are', 'nazis', 'fascists', 'communists', '—', 'all', 'that', 'fun', 'shit']\n",
      "Best 10:\n",
      "#0:\n",
      "['<bos>', '<bos>', '<bos>', 'unk', 'and', 'unk', 'as', 'well', 'as', 'the', 'ubiquitous', 'unk']\n",
      "#1:\n",
      "['<bos>', '<bos>', '<bos>', '1', '@.@', '5', '–', '4', '@.@', '9', 'lb']\n",
      "#2:\n",
      "['<bos>', '<bos>', '<bos>', ' ', 'post', '@-@', 'war', 'career', '\\n']\n",
      "#3:\n",
      "['<bos>', '<bos>', '<bos>', 'it', 'originally', 'aired', 'on', 'unk', 'in', 'the', 'united', 'states', 'on', 'september', '21', '2001', '\\n']\n",
      "#4:\n",
      "['<bos>', '<bos>', '<bos>', ' ', 'early', 'life', 'and', 'education', '\\n']\n",
      "#5:\n",
      "['<bos>', '<bos>', '<bos>', ' ', 'unk', 'from', 'the', 'stage', '\\n']\n",
      "#6:\n",
      "['<bos>', '<bos>', '<bos>', 'she', 'has', 'also', 'been', 'cast', 'in', 'the', 'film', 'unk', '\\n']\n",
      "#7:\n",
      "['<bos>', '<bos>', '<bos>', ' ', 'post', '@-@', 'war', 'period', '\\n']\n",
      "#8:\n",
      "['<bos>', '<bos>', '<bos>', 'unk', 'in', 'the', 'second', 'half', 'of', 'the', '7th', 'century', '\\n']\n",
      "#9:\n",
      "['<bos>', '<bos>', '<bos>', 'they', 'include', 'unk', 'unk', 'unk', 'unk', 'unk', 'unk', 'unk', 'unk', 'unk', 'unk', 'unk', 'unk', 'unk', 'of', 'unk', 'unk', 'unk', 'unk', 'unk', 'unk', 'of', 'unk', 'unk', 'of', 'unk', 'unk', 'unk', 'unk', 'unk', 'the', 'horn', 'unk', 'unk', 'and', 'unk', 'unk']\n"
     ]
    }
   ],
   "source": [
    "import copy   \n",
    "    \n",
    "def get_prob(loader):\n",
    "    \n",
    "    options = {\n",
    "                'num_embeddings': len(wiki_dict),\n",
    "                'embedding_dim': 128,\n",
    "                'padding_idx': wiki_dict.get_id('<pad>'),\n",
    "                'input_size': 128,\n",
    "                'hidden_size': 128,\n",
    "                'num_layers': 2,\n",
    "                'rnn_dropout': 0.1,\n",
    "            }\n",
    "    model = LSTMModel(options).to(current_device)\n",
    "    best_model_path = path + \"Grid Search/emb_dim=128_dropout=0.1.pt\"\n",
    "    model.load_state_dict(torch.load(best_model_path,  map_location=torch.device(current_device)))\n",
    "    model.eval()\n",
    "    lstm_criterion = nn.CrossEntropyLoss(ignore_index=wiki_dict.get_id('<pad>'))\n",
    "    \n",
    "\n",
    "    score_seq_pair_list = []    \n",
    "  \n",
    "    valid_losses = []\n",
    "    with torch.no_grad():\n",
    "        for i, (inp, target) in enumerate(loader):\n",
    "\n",
    "          dev_inp = copy.deepcopy(inp).to(current_device) \n",
    "          dev_target = copy.deepcopy(target).to(current_device)\n",
    "          \n",
    "          logits = model(dev_inp)\n",
    "          log_prob = -lstm_criterion(logits.view(-1, logits.size(-1)), dev_target.view(-1))\n",
    "    \n",
    "          score_seq_pair_list.append( (log_prob,  inp[0, :]) )       \n",
    "    return score_seq_pair_list\n",
    "\n",
    "        \n",
    "def get_worst_best_10(loader):\n",
    "  \n",
    "    score_seq_pair_list = get_prob(loader)\n",
    "    score_seq_pair_list.sort(key=lambda x: x[0]) # sort by first value\n",
    "    \n",
    "    worst = [s[1] for s in score_seq_pair_list[:10]]\n",
    "    best = [s[1] for s in score_seq_pair_list[-10:]]\n",
    "    \n",
    "    return worst, best\n",
    "   \n",
    "\n",
    "def print_best_worst_10(loader, dictionary):\n",
    "  \n",
    "    worst_token, best_token = get_worst_best_10(loader)\n",
    "\n",
    "    \n",
    "    worst = [dictionary.decode_idx_seq(s) for s in worst_token]\n",
    "    best = [dictionary.decode_idx_seq(s) for s in best_token]\n",
    "    \n",
    "    \n",
    "    print(\"Worst 10:\")\n",
    "    for i, s in enumerate(worst):\n",
    "        print(\"#\" + str(i) + \":\")\n",
    "        print(s)\n",
    "        \n",
    "  \n",
    "    \n",
    "    print(\"Best 10:\")\n",
    "    for i, s in enumerate(best):\n",
    "        print(\"#\" + str(i) + \":\")\n",
    "        print(s)\n",
    "        \n",
    "    return best, worst\n",
    "               \n",
    "wiki_datasets_1, wiki_loaders_1 = build_ngram_loader(wiki_all, wiki_dict, 4, 1) #Batch size = 1\n",
    "worst, best = print_best_worst_10(wiki_loaders_1[\"valid\"], wiki_dict)\n",
    "\n"
   ]
  },
  {
   "cell_type": "markdown",
   "metadata": {
    "colab_type": "text",
    "id": "t6lm2RPZerG3"
   },
   "source": [
    "#### II.3.3 Modified sequences"
   ]
  },
  {
   "cell_type": "code",
   "execution_count": 42,
   "metadata": {},
   "outputs": [
    {
     "name": "stdout",
     "output_type": "stream",
     "text": [
      "Score of original sequence:\n",
      "-2.7018444538116455\n",
      "Score of first modified sequence\n",
      "-3.141071319580078\n",
      "Score of second modified sequence\n",
      "-2.48968768119812\n"
     ]
    }
   ],
   "source": [
    "original_seq = ['<bos>', '<bos>', '<bos>', 'it', 'originally', 'aired', 'on', 'unk', 'in', 'the', 'united', 'states', 'on', 'september', '21', '2001', '\\n']\n",
    "print(\"Score of original sequence:\")\n",
    "print(score_seq(original_seq, wiki_dict))\n",
    "\n",
    "modified_seq_1 = ['<bos>', '<bos>', '<bos>', 'it', 'originally', 'originally', 'on', 'unk', 'in', 'the', 'united', 'states', 'on', 'september', '21', '2001', '\\n']\n",
    "print(\"Score of first modified sequence\")\n",
    "print(score_seq(modified_seq_1, wiki_dict))\n",
    "\n",
    "modified_seq_2 = ['<bos>', '<bos>', '<bos>', 'it', 'originally', 'aired', 'in', 'the', 'united', 'states', 'on', 'september', '21', '2001', '\\n']\n",
    "print(\"Score of second modified sequence\")\n",
    "print(score_seq(modified_seq_2, wiki_dict))\n"
   ]
  },
  {
   "cell_type": "markdown",
   "metadata": {},
   "source": [
    "In the first modified sequence, the word `aired` was substituted with a repeated `originally`. We observed that this negatively impacted the overall score of the sequence.\n",
    "\n",
    "In the second sequence, both `on` and `unk` words were removed generating a more interpretable sequence. We observed that this positively impacted the overall score of the sequence."
   ]
  },
  {
   "cell_type": "markdown",
   "metadata": {
    "colab_type": "text",
    "id": "ygWd_A72erG5"
   },
   "source": [
    "### II.4 Sampling"
   ]
  },
  {
   "cell_type": "markdown",
   "metadata": {},
   "source": [
    "## Loading best trained model-- embedding dimension: 128, dropout: 0.1\n",
    "\n",
    "Below is included simply for initialization"
   ]
  },
  {
   "cell_type": "code",
   "execution_count": 43,
   "metadata": {
    "colab": {},
    "colab_type": "code",
    "id": "JBqVQMHKerG6"
   },
   "outputs": [],
   "source": [
    "stock_hidden_size = 128\n",
    "stock_embedding_size = 128\n",
    "stock_rnn_dropout = 0.1\n",
    "stock_num_layers = 2\n",
    "\n",
    "stock_options = {\n",
    "        'num_embeddings': len(wiki_dict),\n",
    "        'embedding_dim': stock_embedding_size,\n",
    "        'padding_idx': wiki_dict.get_id('<pad>'),\n",
    "        'input_size': stock_embedding_size,\n",
    "        'hidden_size': stock_hidden_size,\n",
    "        'num_layers': stock_num_layers,\n",
    "        'rnn_dropout': stock_rnn_dropout,\n",
    "    }"
   ]
  },
  {
   "cell_type": "code",
   "execution_count": 44,
   "metadata": {},
   "outputs": [
    {
     "data": {
      "text/plain": [
       "LSTMModel(\n",
       "  (lookup): Embedding(28792, 128, padding_idx=2)\n",
       "  (lstm): LSTM(128, 128, num_layers=2, batch_first=True, dropout=0.1)\n",
       "  (projection): Linear(in_features=128, out_features=28792, bias=True)\n",
       ")"
      ]
     },
     "execution_count": 44,
     "metadata": {},
     "output_type": "execute_result"
    }
   ],
   "source": [
    "best_model_path = path+'Grid Search/emb_dim=128_dropout=0.1.pt'\n",
    "best_lstm = LSTMModel(stock_options).to(current_device)\n",
    "if current_device == 'cpu':\n",
    "    model_checkpoint = torch.load(best_model_path, map_location=torch.device(current_device))\n",
    "else:\n",
    "    model_checkpoint = torch.load(best_model_path)\n",
    "\n",
    "best_lstm.load_state_dict(model_checkpoint)\n",
    "best_lstm.eval()"
   ]
  },
  {
   "cell_type": "markdown",
   "metadata": {},
   "source": [
    "# Notes on `generate_sentences()`\n",
    "Due to the fact that we built our RNN and LSTM models on n-grams, specifically 4-grams, it was not possible to simply pass a single token to our pretrained model at each iteration of the innermost `while`-loop. When passing the start of a sentence/sequence, `<bos>`, what is returned is a high likelihood of `<bos>` being the next word rather than building an actual sequence/sentence. Remember that this is due to the fact that we padded the start of our n-grams with `<bos>` a total of $(n-1)$ times. Furthermore, this is a result of how we defined our **target** classes--the class `TensoredDataset` defines the input as a sequence sans the last token, `<eos>`, and the target as a sequence slid over by one index such that `<eos>` is included. Thus, our inputs and our targets were **both** sequences.\n",
    "\n",
    "So instead of passing individual tokens in each iteration, we proceed by appending each generated word to a tensor named `sentence`. The growing tensor is fed back into our model _until_ the next word that is generated is `<eos>`, at which point we consider the sentence generated."
   ]
  },
  {
   "cell_type": "code",
   "execution_count": 46,
   "metadata": {},
   "outputs": [],
   "source": [
    "import torch.nn.functional as F\n",
    "\n",
    "def generate_sentences(model, vocabulary, total_sentences=1000):\n",
    "    all_sentences = []\n",
    "    with tqdm(total=total_sentences) as pbar:\n",
    "        while len(all_sentences) < total_sentences:\n",
    "            first_word_idx = [vocabulary.get_id('<bos>')]\n",
    "            first_word_tensor = torch.LongTensor([first_word_idx])\n",
    "            sentence = torch.LongTensor([first_word_idx])\n",
    "            first_elem_passed = False\n",
    "            eos = False\n",
    "            while not eos:\n",
    "                seq_out = model(sentence)\n",
    "                word_prob = F.softmax(seq_out, dim = 2).squeeze()\n",
    "                if len(word_prob.size()) > 1: \n",
    "                    word_prob = word_prob[word_prob.size()[0] - 1 ]\n",
    "\n",
    "                word = torch.multinomial(word_prob, num_samples = 1)\n",
    "                word = int(word.data[-1:])\n",
    "                if word == vocabulary.get_id('<eos>'):\n",
    "                    eos = True\n",
    "                word = torch.tensor([word], dtype = torch.long)\n",
    "                sentence = torch.cat((sentence.squeeze(0), word))    \n",
    "                sentence = sentence.expand(1,sentence.size()[0])\n",
    "            all_sentences.append(vocabulary.decode_idx_seq([int(i) for i in sentence.squeeze()]))\n",
    "            pbar.update(1)\n",
    "    return all_sentences\n",
    "            "
   ]
  },
  {
   "cell_type": "code",
   "execution_count": 19,
   "metadata": {},
   "outputs": [
    {
     "name": "stderr",
     "output_type": "stream",
     "text": [
      "100%|██████████| 1000/1000 [03:21<00:00,  4.09it/s]\n"
     ]
    }
   ],
   "source": [
    "sentences_1000 = generate_sentences(best_lstm, wiki_dict)"
   ]
  },
  {
   "cell_type": "code",
   "execution_count": 25,
   "metadata": {},
   "outputs": [],
   "source": [
    "pkl.dump(sentences_1000, open('one_thousand_sentences.p','wb'))"
   ]
  },
  {
   "cell_type": "markdown",
   "metadata": {
    "colab_type": "text",
    "id": "ID5eiL5JerG7"
   },
   "source": [
    "#### II.4.3 Number of unique tokens and sequence length \n",
    "\n",
    "(1,000 samples vs. 1,000 randomly selected validation-set sequences)"
   ]
  },
  {
   "cell_type": "code",
   "execution_count": 47,
   "metadata": {},
   "outputs": [],
   "source": [
    "sentences_1000 = pkl.load(open(path+'one_thousand_sentences.p','rb'))"
   ]
  },
  {
   "cell_type": "code",
   "execution_count": 48,
   "metadata": {},
   "outputs": [],
   "source": [
    "random_val_idx = list(np.random.choice(len(wiki_val), 1000, replace=False))\n",
    "random_val_1000 = [wiki_val[idx] for idx in random_val_idx]"
   ]
  },
  {
   "cell_type": "code",
   "execution_count": 49,
   "metadata": {},
   "outputs": [],
   "source": [
    "def get_set_size(sequences):\n",
    "    full_set = set()\n",
    "    for tokens in sequences:\n",
    "        full_set = full_set.union(set(tokens))\n",
    "    \n",
    "    return len(full_set)"
   ]
  },
  {
   "cell_type": "code",
   "execution_count": 50,
   "metadata": {},
   "outputs": [
    {
     "data": {
      "text/plain": [
       "5933"
      ]
     },
     "execution_count": 50,
     "metadata": {},
     "output_type": "execute_result"
    }
   ],
   "source": [
    "generated_num_uniq = get_set_size(sentences_1000)\n",
    "generated_num_uniq"
   ]
  },
  {
   "cell_type": "code",
   "execution_count": 51,
   "metadata": {},
   "outputs": [
    {
     "data": {
      "text/plain": [
       "4476"
      ]
     },
     "execution_count": 51,
     "metadata": {},
     "output_type": "execute_result"
    }
   ],
   "source": [
    "val_num_uniq = get_set_size(random_val_1000)\n",
    "val_num_uniq"
   ]
  },
  {
   "cell_type": "code",
   "execution_count": 52,
   "metadata": {},
   "outputs": [
    {
     "data": {
      "image/png": "[encoded data removed]",
      "text/plain": [
       "<Figure size 360x720 with 1 Axes>"
      ]
     },
     "metadata": {
      "needs_background": "light"
     },
     "output_type": "display_data"
    }
   ],
   "source": [
    "\n",
    "%matplotlib inline\n",
    "plt.figure(figsize=(5,10))\n",
    "plt.bar([0], [generated_num_uniq], align='center', alpha=0.5, label = 'Generated')\n",
    "plt.bar([1], [val_num_uniq], align='center', alpha=0.5, color = 'red', label = 'Validation')\n",
    "plt.ylabel('Number Unique Tokens')\n",
    "plt.title('Generated vs. Validation\\n Sequences')\n",
    "plt.xticks([0,1], [str(generated_num_uniq), str(val_num_uniq)])\n",
    "\n",
    "plt.legend()\n",
    "plt.show()"
   ]
  },
  {
   "cell_type": "markdown",
   "metadata": {},
   "source": [
    "As seen above, we observed that our 1000 generated sequences has around $\\approx 1400$ more unique tokens than the 1000 randomly sampled validation sequences"
   ]
  },
  {
   "cell_type": "code",
   "execution_count": 53,
   "metadata": {},
   "outputs": [],
   "source": [
    "def get_lengths(sequences):\n",
    "    lengths = []\n",
    "    for seq in sequences:\n",
    "        lengths.append(len(seq))\n",
    "    return lengths"
   ]
  },
  {
   "cell_type": "code",
   "execution_count": 54,
   "metadata": {},
   "outputs": [],
   "source": [
    "generated_lens = get_lengths(sentences_1000)\n",
    "validation_lens = get_lengths(random_val_1000)"
   ]
  },
  {
   "cell_type": "code",
   "execution_count": 55,
   "metadata": {},
   "outputs": [
    {
     "data": {
      "image/png": "[encoded data removed]",
      "text/plain": [
       "<Figure size 1080x576 with 2 Axes>"
      ]
     },
     "metadata": {
      "needs_background": "light"
     },
     "output_type": "display_data"
    }
   ],
   "source": [
    "fig, axs = plt.subplots(1, 2, figsize=(15,8))\n",
    "fig.suptitle('Sequence lengths', fontsize=14)\n",
    "axs[0].hist(generated_lens, bins=40, color = 'skyblue')\n",
    "axs[0].set_ylabel('Sequence length frequency', fontsize=14)\n",
    "axs[0].set_xticks([i*10 for i in range(10)])\n",
    "axs[0].set_yticks([i*10 for i in range(12)])\n",
    "axs[1].hist(validation_lens, bins=40, alpha = 0.5, color = 'red')\n",
    "axs[1].set_xticks([i*10 for i in range(10)])\n",
    "axs[1].set_yticks([i*10 for i in range(13)])\n",
    "\n",
    "plt.show()"
   ]
  },
  {
   "cell_type": "markdown",
   "metadata": {},
   "source": [
    "The histograms above display that our generated sequences tend to achieve longer sequence length than the what is  observed in the validation set. It is important to note also that the majority of generated sequences achieve lengths between $20$ and $30$, which is observed to be the case in the validation set. "
   ]
  },
  {
   "cell_type": "markdown",
   "metadata": {
    "colab_type": "text",
    "id": "bMLc8_k6erG9"
   },
   "source": [
    "#### II.4.4 Example Samples"
   ]
  },
  {
   "cell_type": "markdown",
   "metadata": {},
   "source": [
    "As we observe below, the generated sequences are _clearly_ model-generated as opposed to human-made. Regarding the topic, we see that the sentences stay on topic for a certain succession of words. In this case, due to the fact that we trained a 4-gram, it appears that it's around a sequence of 4 words that a complete thought is expressed/ a topic is maintained. After this point, the sequence appears to change topic. As a result, the generated sequences are not grammatically correct.\n",
    "\n",
    "For example, taking the latter half of the 3rd generated sentence below, we see the mention of `on 25 april 1880`, which describes a date/event but follow this there is a mention of an entirely different date. This hints that when the model sees a number, it might assign relativily higher probabilities of the next words being related to 'date' topic. "
   ]
  },
  {
   "cell_type": "code",
   "execution_count": 56,
   "metadata": {
    "colab": {},
    "colab_type": "code",
    "id": "ulJU-uFverG-"
   },
   "outputs": [
    {
     "name": "stdout",
     "output_type": "stream",
     "text": [
      "<bos> <bos> <bos> around this time in 1989 power and gaining no home conditions wheeler 's gather sometimes brought a new straight u @-@ issue \n",
      " <eos>\n",
      "\n",
      "\n",
      "\n",
      "\n",
      "<bos> <bos> <bos> the caa 's corn deals an extratropical album bolívar was nominated as the ninth years sound benefits and the unk building is operating ramps project in their network prefect and in accepting 60 county north of the eastern pacific stream <eos>\n",
      "\n",
      "\n",
      "\n",
      "\n",
      "<bos> <bos> <bos> it was shortly a game at the register of its points on 25 april 1880 on september 9 <eos>\n",
      "\n",
      "\n",
      "\n",
      "\n"
     ]
    }
   ],
   "source": [
    "np.random.seed(111)\n",
    "for seq in np.random.choice(len(sentences_1000), 3, replace = False):\n",
    "    print(' '.join(sentences_1000[seq]))\n",
    "    print('\\n')\n",
    "    print('\\n')"
   ]
  },
  {
   "cell_type": "code",
   "execution_count": null,
   "metadata": {},
   "outputs": [],
   "source": []
  }
 ],
 "metadata": {
  "accelerator": "GPU",
  "colab": {
   "collapsed_sections": [
    "6QzTPpkRerFf",
    "R2n6VrfCerFi",
    "qL2QPU8terGf",
    "Xz5l25EperGh",
    "01x_Q25GerGk",
    "ivqkICEkerGk",
    "OtBe0FmgerGo",
    "OJL5XRpDerGq",
    "1WMSHRA6erGu",
    "WxqEAO4IerGy",
    "58wLi3TIerG0",
    "t6lm2RPZerG3",
    "ygWd_A72erG5",
    "ID5eiL5JerG7",
    "bMLc8_k6erG9"
   ],
   "name": "antonio_RNN.ipynb",
   "provenance": [],
   "toc_visible": true
  },
  "kernelspec": {
   "display_name": "Python 3",
   "language": "python",
   "name": "python3"
  },
  "language_info": {
   "codemirror_mode": {
    "name": "ipython",
    "version": 3
   },
   "file_extension": ".py",
   "mimetype": "text/x-python",
   "name": "python",
   "nbconvert_exporter": "python",
   "pygments_lexer": "ipython3",
   "version": "3.6.7"
  }
 },
 "nbformat": 4,
 "nbformat_minor": 1
}
